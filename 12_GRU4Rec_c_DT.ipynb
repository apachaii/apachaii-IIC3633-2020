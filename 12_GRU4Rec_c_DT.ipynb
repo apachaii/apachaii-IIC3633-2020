{
  "nbformat": 4,
  "nbformat_minor": 0,
  "metadata": {
    "colab": {
      "name": "GRU4Rec c/DT.ipynb",
      "provenance": [],
      "collapsed_sections": [],
      "include_colab_link": true
    },
    "kernelspec": {
      "name": "python3",
      "display_name": "Python 3"
    },
    "accelerator": "GPU"
  },
  "cells": [
    {
      "cell_type": "markdown",
      "metadata": {
        "id": "view-in-github",
        "colab_type": "text"
      },
      "source": [
        "<a href=\"https://colab.research.google.com/github/apachaii/apachaii-IIC3633-2020/blob/master/GRU4Rec_c_DT.ipynb\" target=\"_parent\"><img src=\"https://colab.research.google.com/assets/colab-badge.svg\" alt=\"Open In Colab\"/></a>"
      ]
    },
    {
      "cell_type": "markdown",
      "metadata": {
        "id": "bcrDor7CR1SO"
      },
      "source": [
        "# Gated Recurrent Units for session-based next item prediction\n",
        "\n",
        "Patricio Cerda, Bastián Mavrakis, Denis Parra\n",
        "\n",
        "### Ambiente: Python3 + GPU\n",
        "\n",
        "## Descargar datos y repositorio"
      ]
    },
    {
      "cell_type": "code",
      "metadata": {
        "id": "nCAQDIrOPUQP",
        "outputId": "70c3a775-8b00-43ee-de70-fc863b10aa90",
        "colab": {
          "base_uri": "https://localhost:8080/"
        }
      },
      "source": [
        "# Clone repo\n",
        "!git clone https://github.com/pcerdam/KerasGRU4Rec --single-branch src"
      ],
      "execution_count": null,
      "outputs": [
        {
          "output_type": "stream",
          "text": [
            "Cloning into 'src'...\n",
            "remote: Enumerating objects: 46, done.\u001b[K\n",
            "remote: Counting objects: 100% (46/46), done.\u001b[K\n",
            "remote: Compressing objects: 100% (30/30), done.\u001b[K\n",
            "remote: Total 207 (delta 15), reused 32 (delta 12), pack-reused 161\u001b[K\n",
            "Receiving objects: 100% (207/207), 10.58 MiB | 20.44 MiB/s, done.\n",
            "Resolving deltas: 100% (87/87), done.\n"
          ],
          "name": "stdout"
        }
      ]
    },
    {
      "cell_type": "code",
      "metadata": {
        "id": "BpccDqjDPbjI",
        "outputId": "8f38ec82-d191-43f0-f4da-4294b48a1d03",
        "colab": {
          "base_uri": "https://localhost:8080/"
        }
      },
      "source": [
        "# Download RecSys Challenge 2015 dataset\n",
        "!rm -r sample_data\n",
        "!curl https://s3-eu-west-1.amazonaws.com/yc-rdata/yoochoose-data.7z --output data.7z"
      ],
      "execution_count": null,
      "outputs": [
        {
          "output_type": "stream",
          "text": [
            "  % Total    % Received % Xferd  Average Speed   Time    Time     Time  Current\n",
            "                                 Dload  Upload   Total   Spent    Left  Speed\n",
            "100  273M  100  273M    0     0  30.3M      0  0:00:09  0:00:09 --:--:-- 34.3M\n"
          ],
          "name": "stdout"
        }
      ]
    },
    {
      "cell_type": "code",
      "metadata": {
        "id": "AJkLaRyqPp-z",
        "outputId": "9b11df35-c0a5-48fd-fab8-7d6071b0a549",
        "colab": {
          "base_uri": "https://localhost:8080/"
        }
      },
      "source": [
        "# Extract dataset\n",
        "!7z e data.7z -o./rsc15\n",
        "!rm data.7z\n",
        "!mkdir data"
      ],
      "execution_count": null,
      "outputs": [
        {
          "output_type": "stream",
          "text": [
            "\n",
            "7-Zip [64] 16.02 : Copyright (c) 1999-2016 Igor Pavlov : 2016-05-21\n",
            "p7zip Version 16.02 (locale=en_US.UTF-8,Utf16=on,HugeFiles=on,64 bits,2 CPUs Intel(R) Xeon(R) CPU @ 2.20GHz (406F0),ASM,AES-NI)\n",
            "\n",
            "Scanning the drive for archives:\n",
            "  0M Scan\b\b\b\b\b\b\b\b\b         \b\b\b\b\b\b\b\b\b1 file, 287211932 bytes (274 MiB)\n",
            "\n",
            "Extracting archive: data.7z\n",
            "--\n",
            "Path = data.7z\n",
            "Type = 7z\n",
            "Physical Size = 287211932\n",
            "Headers Size = 255\n",
            "Method = LZMA:24\n",
            "Solid = +\n",
            "Blocks = 2\n",
            "\n",
            "  0%\b\b\b\b    \b\b\b\b  0% - yoochoose-buys.dat\b\b\b\b\b\b\b\b\b\b\b\b\b\b\b\b\b\b\b\b\b\b\b\b\b                         \b\b\b\b\b\b\b\b\b\b\b\b\b\b\b\b\b\b\b\b\b\b\b\b\b  1% - yoochoose-buys.dat\b\b\b\b\b\b\b\b\b\b\b\b\b\b\b\b\b\b\b\b\b\b\b\b\b                         \b\b\b\b\b\b\b\b\b\b\b\b\b\b\b\b\b\b\b\b\b\b\b\b\b  2% - yoochoose-buys.dat\b\b\b\b\b\b\b\b\b\b\b\b\b\b\b\b\b\b\b\b\b\b\b\b\b                         \b\b\b\b\b\b\b\b\b\b\b\b\b\b\b\b\b\b\b\b\b\b\b\b\b  3% 1 - yoochoose-clicks.dat\b\b\b\b\b\b\b\b\b\b\b\b\b\b\b\b\b\b\b\b\b\b\b\b\b\b\b\b\b                             \b\b\b\b\b\b\b\b\b\b\b\b\b\b\b\b\b\b\b\b\b\b\b\b\b\b\b\b\b  4% 1 - yoochoose-clicks.dat\b\b\b\b\b\b\b\b\b\b\b\b\b\b\b\b\b\b\b\b\b\b\b\b\b\b\b\b\b                             \b\b\b\b\b\b\b\b\b\b\b\b\b\b\b\b\b\b\b\b\b\b\b\b\b\b\b\b\b  5% 1 - yoochoose-clicks.dat\b\b\b\b\b\b\b\b\b\b\b\b\b\b\b\b\b\b\b\b\b\b\b\b\b\b\b\b\b                             \b\b\b\b\b\b\b\b\b\b\b\b\b\b\b\b\b\b\b\b\b\b\b\b\b\b\b\b\b  6% 1 - yoochoose-clicks.dat\b\b\b\b\b\b\b\b\b\b\b\b\b\b\b\b\b\b\b\b\b\b\b\b\b\b\b\b\b                             \b\b\b\b\b\b\b\b\b\b\b\b\b\b\b\b\b\b\b\b\b\b\b\b\b\b\b\b\b  7% 1 - yoochoose-clicks.dat\b\b\b\b\b\b\b\b\b\b\b\b\b\b\b\b\b\b\b\b\b\b\b\b\b\b\b\b\b                             \b\b\b\b\b\b\b\b\b\b\b\b\b\b\b\b\b\b\b\b\b\b\b\b\b\b\b\b\b  8% 1 - yoochoose-clicks.dat\b\b\b\b\b\b\b\b\b\b\b\b\b\b\b\b\b\b\b\b\b\b\b\b\b\b\b\b\b                             \b\b\b\b\b\b\b\b\b\b\b\b\b\b\b\b\b\b\b\b\b\b\b\b\b\b\b\b\b  9% 1 - yoochoose-clicks.dat\b\b\b\b\b\b\b\b\b\b\b\b\b\b\b\b\b\b\b\b\b\b\b\b\b\b\b\b\b                             \b\b\b\b\b\b\b\b\b\b\b\b\b\b\b\b\b\b\b\b\b\b\b\b\b\b\b\b\b 10% 1 - yoochoose-clicks.dat\b\b\b\b\b\b\b\b\b\b\b\b\b\b\b\b\b\b\b\b\b\b\b\b\b\b\b\b\b                             \b\b\b\b\b\b\b\b\b\b\b\b\b\b\b\b\b\b\b\b\b\b\b\b\b\b\b\b\b 11% 1 - yoochoose-clicks.dat\b\b\b\b\b\b\b\b\b\b\b\b\b\b\b\b\b\b\b\b\b\b\b\b\b\b\b\b\b                             \b\b\b\b\b\b\b\b\b\b\b\b\b\b\b\b\b\b\b\b\b\b\b\b\b\b\b\b\b 12% 1 - yoochoose-clicks.dat\b\b\b\b\b\b\b\b\b\b\b\b\b\b\b\b\b\b\b\b\b\b\b\b\b\b\b\b\b                             \b\b\b\b\b\b\b\b\b\b\b\b\b\b\b\b\b\b\b\b\b\b\b\b\b\b\b\b\b 13% 1 - yoochoose-clicks.dat\b\b\b\b\b\b\b\b\b\b\b\b\b\b\b\b\b\b\b\b\b\b\b\b\b\b\b\b\b                             \b\b\b\b\b\b\b\b\b\b\b\b\b\b\b\b\b\b\b\b\b\b\b\b\b\b\b\b\b 14% 1 - yoochoose-clicks.dat\b\b\b\b\b\b\b\b\b\b\b\b\b\b\b\b\b\b\b\b\b\b\b\b\b\b\b\b\b                             \b\b\b\b\b\b\b\b\b\b\b\b\b\b\b\b\b\b\b\b\b\b\b\b\b\b\b\b\b 15% 1 - yoochoose-clicks.dat\b\b\b\b\b\b\b\b\b\b\b\b\b\b\b\b\b\b\b\b\b\b\b\b\b\b\b\b\b                             \b\b\b\b\b\b\b\b\b\b\b\b\b\b\b\b\b\b\b\b\b\b\b\b\b\b\b\b\b 16% 1 - yoochoose-clicks.dat\b\b\b\b\b\b\b\b\b\b\b\b\b\b\b\b\b\b\b\b\b\b\b\b\b\b\b\b\b                             \b\b\b\b\b\b\b\b\b\b\b\b\b\b\b\b\b\b\b\b\b\b\b\b\b\b\b\b\b 17% 1 - yoochoose-clicks.dat\b\b\b\b\b\b\b\b\b\b\b\b\b\b\b\b\b\b\b\b\b\b\b\b\b\b\b\b\b                             \b\b\b\b\b\b\b\b\b\b\b\b\b\b\b\b\b\b\b\b\b\b\b\b\b\b\b\b\b 18% 1 - yoochoose-clicks.dat\b\b\b\b\b\b\b\b\b\b\b\b\b\b\b\b\b\b\b\b\b\b\b\b\b\b\b\b\b                             \b\b\b\b\b\b\b\b\b\b\b\b\b\b\b\b\b\b\b\b\b\b\b\b\b\b\b\b\b 19% 1 - yoochoose-clicks.dat\b\b\b\b\b\b\b\b\b\b\b\b\b\b\b\b\b\b\b\b\b\b\b\b\b\b\b\b\b                             \b\b\b\b\b\b\b\b\b\b\b\b\b\b\b\b\b\b\b\b\b\b\b\b\b\b\b\b\b 20% 1 - yoochoose-clicks.dat\b\b\b\b\b\b\b\b\b\b\b\b\b\b\b\b\b\b\b\b\b\b\b\b\b\b\b\b\b                             \b\b\b\b\b\b\b\b\b\b\b\b\b\b\b\b\b\b\b\b\b\b\b\b\b\b\b\b\b 21% 1 - yoochoose-clicks.dat\b\b\b\b\b\b\b\b\b\b\b\b\b\b\b\b\b\b\b\b\b\b\b\b\b\b\b\b\b                             \b\b\b\b\b\b\b\b\b\b\b\b\b\b\b\b\b\b\b\b\b\b\b\b\b\b\b\b\b 22% 1 - yoochoose-clicks.dat\b\b\b\b\b\b\b\b\b\b\b\b\b\b\b\b\b\b\b\b\b\b\b\b\b\b\b\b\b                             \b\b\b\b\b\b\b\b\b\b\b\b\b\b\b\b\b\b\b\b\b\b\b\b\b\b\b\b\b 23% 1 - yoochoose-clicks.dat\b\b\b\b\b\b\b\b\b\b\b\b\b\b\b\b\b\b\b\b\b\b\b\b\b\b\b\b\b                             \b\b\b\b\b\b\b\b\b\b\b\b\b\b\b\b\b\b\b\b\b\b\b\b\b\b\b\b\b 24% 1 - yoochoose-clicks.dat\b\b\b\b\b\b\b\b\b\b\b\b\b\b\b\b\b\b\b\b\b\b\b\b\b\b\b\b\b                             \b\b\b\b\b\b\b\b\b\b\b\b\b\b\b\b\b\b\b\b\b\b\b\b\b\b\b\b\b 25% 1 - yoochoose-clicks.dat\b\b\b\b\b\b\b\b\b\b\b\b\b\b\b\b\b\b\b\b\b\b\b\b\b\b\b\b\b                             \b\b\b\b\b\b\b\b\b\b\b\b\b\b\b\b\b\b\b\b\b\b\b\b\b\b\b\b\b 26% 1 - yoochoose-clicks.dat\b\b\b\b\b\b\b\b\b\b\b\b\b\b\b\b\b\b\b\b\b\b\b\b\b\b\b\b\b                             \b\b\b\b\b\b\b\b\b\b\b\b\b\b\b\b\b\b\b\b\b\b\b\b\b\b\b\b\b 27% 1 - yoochoose-clicks.dat\b\b\b\b\b\b\b\b\b\b\b\b\b\b\b\b\b\b\b\b\b\b\b\b\b\b\b\b\b                             \b\b\b\b\b\b\b\b\b\b\b\b\b\b\b\b\b\b\b\b\b\b\b\b\b\b\b\b\b 28% 1 - yoochoose-clicks.dat\b\b\b\b\b\b\b\b\b\b\b\b\b\b\b\b\b\b\b\b\b\b\b\b\b\b\b\b\b                             \b\b\b\b\b\b\b\b\b\b\b\b\b\b\b\b\b\b\b\b\b\b\b\b\b\b\b\b\b 29% 1 - yoochoose-clicks.dat\b\b\b\b\b\b\b\b\b\b\b\b\b\b\b\b\b\b\b\b\b\b\b\b\b\b\b\b\b                             \b\b\b\b\b\b\b\b\b\b\b\b\b\b\b\b\b\b\b\b\b\b\b\b\b\b\b\b\b 30% 1 - yoochoose-clicks.dat\b\b\b\b\b\b\b\b\b\b\b\b\b\b\b\b\b\b\b\b\b\b\b\b\b\b\b\b\b                             \b\b\b\b\b\b\b\b\b\b\b\b\b\b\b\b\b\b\b\b\b\b\b\b\b\b\b\b\b 31% 1 - yoochoose-clicks.dat\b\b\b\b\b\b\b\b\b\b\b\b\b\b\b\b\b\b\b\b\b\b\b\b\b\b\b\b\b                             \b\b\b\b\b\b\b\b\b\b\b\b\b\b\b\b\b\b\b\b\b\b\b\b\b\b\b\b\b 32% 1 - yoochoose-clicks.dat\b\b\b\b\b\b\b\b\b\b\b\b\b\b\b\b\b\b\b\b\b\b\b\b\b\b\b\b\b                             \b\b\b\b\b\b\b\b\b\b\b\b\b\b\b\b\b\b\b\b\b\b\b\b\b\b\b\b\b 33% 1 - yoochoose-clicks.dat\b\b\b\b\b\b\b\b\b\b\b\b\b\b\b\b\b\b\b\b\b\b\b\b\b\b\b\b\b                             \b\b\b\b\b\b\b\b\b\b\b\b\b\b\b\b\b\b\b\b\b\b\b\b\b\b\b\b\b 34% 1 - yoochoose-clicks.dat\b\b\b\b\b\b\b\b\b\b\b\b\b\b\b\b\b\b\b\b\b\b\b\b\b\b\b\b\b                             \b\b\b\b\b\b\b\b\b\b\b\b\b\b\b\b\b\b\b\b\b\b\b\b\b\b\b\b\b 35% 1 - yoochoose-clicks.dat\b\b\b\b\b\b\b\b\b\b\b\b\b\b\b\b\b\b\b\b\b\b\b\b\b\b\b\b\b                             \b\b\b\b\b\b\b\b\b\b\b\b\b\b\b\b\b\b\b\b\b\b\b\b\b\b\b\b\b 36% 1 - yoochoose-clicks.dat\b\b\b\b\b\b\b\b\b\b\b\b\b\b\b\b\b\b\b\b\b\b\b\b\b\b\b\b\b                             \b\b\b\b\b\b\b\b\b\b\b\b\b\b\b\b\b\b\b\b\b\b\b\b\b\b\b\b\b 37% 1 - yoochoose-clicks.dat\b\b\b\b\b\b\b\b\b\b\b\b\b\b\b\b\b\b\b\b\b\b\b\b\b\b\b\b\b                             \b\b\b\b\b\b\b\b\b\b\b\b\b\b\b\b\b\b\b\b\b\b\b\b\b\b\b\b\b 38% 1 - yoochoose-clicks.dat\b\b\b\b\b\b\b\b\b\b\b\b\b\b\b\b\b\b\b\b\b\b\b\b\b\b\b\b\b                             \b\b\b\b\b\b\b\b\b\b\b\b\b\b\b\b\b\b\b\b\b\b\b\b\b\b\b\b\b 39% 1 - yoochoose-clicks.dat\b\b\b\b\b\b\b\b\b\b\b\b\b\b\b\b\b\b\b\b\b\b\b\b\b\b\b\b\b                             \b\b\b\b\b\b\b\b\b\b\b\b\b\b\b\b\b\b\b\b\b\b\b\b\b\b\b\b\b 40% 1 - yoochoose-clicks.dat\b\b\b\b\b\b\b\b\b\b\b\b\b\b\b\b\b\b\b\b\b\b\b\b\b\b\b\b\b                             \b\b\b\b\b\b\b\b\b\b\b\b\b\b\b\b\b\b\b\b\b\b\b\b\b\b\b\b\b 41% 1 - yoochoose-clicks.dat\b\b\b\b\b\b\b\b\b\b\b\b\b\b\b\b\b\b\b\b\b\b\b\b\b\b\b\b\b                             \b\b\b\b\b\b\b\b\b\b\b\b\b\b\b\b\b\b\b\b\b\b\b\b\b\b\b\b\b 42% 1 - yoochoose-clicks.dat\b\b\b\b\b\b\b\b\b\b\b\b\b\b\b\b\b\b\b\b\b\b\b\b\b\b\b\b\b                             \b\b\b\b\b\b\b\b\b\b\b\b\b\b\b\b\b\b\b\b\b\b\b\b\b\b\b\b\b 43% 1 - yoochoose-clicks.dat\b\b\b\b\b\b\b\b\b\b\b\b\b\b\b\b\b\b\b\b\b\b\b\b\b\b\b\b\b                             \b\b\b\b\b\b\b\b\b\b\b\b\b\b\b\b\b\b\b\b\b\b\b\b\b\b\b\b\b 44% 1 - yoochoose-clicks.dat\b\b\b\b\b\b\b\b\b\b\b\b\b\b\b\b\b\b\b\b\b\b\b\b\b\b\b\b\b                             \b\b\b\b\b\b\b\b\b\b\b\b\b\b\b\b\b\b\b\b\b\b\b\b\b\b\b\b\b 45% 1 - yoochoose-clicks.dat\b\b\b\b\b\b\b\b\b\b\b\b\b\b\b\b\b\b\b\b\b\b\b\b\b\b\b\b\b                             \b\b\b\b\b\b\b\b\b\b\b\b\b\b\b\b\b\b\b\b\b\b\b\b\b\b\b\b\b 46% 1 - yoochoose-clicks.dat\b\b\b\b\b\b\b\b\b\b\b\b\b\b\b\b\b\b\b\b\b\b\b\b\b\b\b\b\b                             \b\b\b\b\b\b\b\b\b\b\b\b\b\b\b\b\b\b\b\b\b\b\b\b\b\b\b\b\b 47% 1 - yoochoose-clicks.dat\b\b\b\b\b\b\b\b\b\b\b\b\b\b\b\b\b\b\b\b\b\b\b\b\b\b\b\b\b                             \b\b\b\b\b\b\b\b\b\b\b\b\b\b\b\b\b\b\b\b\b\b\b\b\b\b\b\b\b 48% 1 - yoochoose-clicks.dat\b\b\b\b\b\b\b\b\b\b\b\b\b\b\b\b\b\b\b\b\b\b\b\b\b\b\b\b\b                             \b\b\b\b\b\b\b\b\b\b\b\b\b\b\b\b\b\b\b\b\b\b\b\b\b\b\b\b\b 49% 1 - yoochoose-clicks.dat\b\b\b\b\b\b\b\b\b\b\b\b\b\b\b\b\b\b\b\b\b\b\b\b\b\b\b\b\b                             \b\b\b\b\b\b\b\b\b\b\b\b\b\b\b\b\b\b\b\b\b\b\b\b\b\b\b\b\b 50% 1 - yoochoose-clicks.dat\b\b\b\b\b\b\b\b\b\b\b\b\b\b\b\b\b\b\b\b\b\b\b\b\b\b\b\b\b                             \b\b\b\b\b\b\b\b\b\b\b\b\b\b\b\b\b\b\b\b\b\b\b\b\b\b\b\b\b 51% 1 - yoochoose-clicks.dat\b\b\b\b\b\b\b\b\b\b\b\b\b\b\b\b\b\b\b\b\b\b\b\b\b\b\b\b\b                             \b\b\b\b\b\b\b\b\b\b\b\b\b\b\b\b\b\b\b\b\b\b\b\b\b\b\b\b\b 52% 1 - yoochoose-clicks.dat\b\b\b\b\b\b\b\b\b\b\b\b\b\b\b\b\b\b\b\b\b\b\b\b\b\b\b\b\b                             \b\b\b\b\b\b\b\b\b\b\b\b\b\b\b\b\b\b\b\b\b\b\b\b\b\b\b\b\b 53% 1 - yoochoose-clicks.dat\b\b\b\b\b\b\b\b\b\b\b\b\b\b\b\b\b\b\b\b\b\b\b\b\b\b\b\b\b                             \b\b\b\b\b\b\b\b\b\b\b\b\b\b\b\b\b\b\b\b\b\b\b\b\b\b\b\b\b 54% 1 - yoochoose-clicks.dat\b\b\b\b\b\b\b\b\b\b\b\b\b\b\b\b\b\b\b\b\b\b\b\b\b\b\b\b\b                             \b\b\b\b\b\b\b\b\b\b\b\b\b\b\b\b\b\b\b\b\b\b\b\b\b\b\b\b\b 55% 1 - yoochoose-clicks.dat\b\b\b\b\b\b\b\b\b\b\b\b\b\b\b\b\b\b\b\b\b\b\b\b\b\b\b\b\b                             \b\b\b\b\b\b\b\b\b\b\b\b\b\b\b\b\b\b\b\b\b\b\b\b\b\b\b\b\b 56% 1 - yoochoose-clicks.dat\b\b\b\b\b\b\b\b\b\b\b\b\b\b\b\b\b\b\b\b\b\b\b\b\b\b\b\b\b                             \b\b\b\b\b\b\b\b\b\b\b\b\b\b\b\b\b\b\b\b\b\b\b\b\b\b\b\b\b 57% 1 - yoochoose-clicks.dat\b\b\b\b\b\b\b\b\b\b\b\b\b\b\b\b\b\b\b\b\b\b\b\b\b\b\b\b\b                             \b\b\b\b\b\b\b\b\b\b\b\b\b\b\b\b\b\b\b\b\b\b\b\b\b\b\b\b\b 58% 1 - yoochoose-clicks.dat\b\b\b\b\b\b\b\b\b\b\b\b\b\b\b\b\b\b\b\b\b\b\b\b\b\b\b\b\b                             \b\b\b\b\b\b\b\b\b\b\b\b\b\b\b\b\b\b\b\b\b\b\b\b\b\b\b\b\b 59% 1 - yoochoose-clicks.dat\b\b\b\b\b\b\b\b\b\b\b\b\b\b\b\b\b\b\b\b\b\b\b\b\b\b\b\b\b                             \b\b\b\b\b\b\b\b\b\b\b\b\b\b\b\b\b\b\b\b\b\b\b\b\b\b\b\b\b 60% 1 - yoochoose-clicks.dat\b\b\b\b\b\b\b\b\b\b\b\b\b\b\b\b\b\b\b\b\b\b\b\b\b\b\b\b\b                             \b\b\b\b\b\b\b\b\b\b\b\b\b\b\b\b\b\b\b\b\b\b\b\b\b\b\b\b\b 61% 1 - yoochoose-clicks.dat\b\b\b\b\b\b\b\b\b\b\b\b\b\b\b\b\b\b\b\b\b\b\b\b\b\b\b\b\b                             \b\b\b\b\b\b\b\b\b\b\b\b\b\b\b\b\b\b\b\b\b\b\b\b\b\b\b\b\b 62% 1 - yoochoose-clicks.dat\b\b\b\b\b\b\b\b\b\b\b\b\b\b\b\b\b\b\b\b\b\b\b\b\b\b\b\b\b                             \b\b\b\b\b\b\b\b\b\b\b\b\b\b\b\b\b\b\b\b\b\b\b\b\b\b\b\b\b 63% 1 - yoochoose-clicks.dat\b\b\b\b\b\b\b\b\b\b\b\b\b\b\b\b\b\b\b\b\b\b\b\b\b\b\b\b\b                             \b\b\b\b\b\b\b\b\b\b\b\b\b\b\b\b\b\b\b\b\b\b\b\b\b\b\b\b\b 64% 1 - yoochoose-clicks.dat\b\b\b\b\b\b\b\b\b\b\b\b\b\b\b\b\b\b\b\b\b\b\b\b\b\b\b\b\b                             \b\b\b\b\b\b\b\b\b\b\b\b\b\b\b\b\b\b\b\b\b\b\b\b\b\b\b\b\b 65% 1 - yoochoose-clicks.dat\b\b\b\b\b\b\b\b\b\b\b\b\b\b\b\b\b\b\b\b\b\b\b\b\b\b\b\b\b                             \b\b\b\b\b\b\b\b\b\b\b\b\b\b\b\b\b\b\b\b\b\b\b\b\b\b\b\b\b 66% 1 - yoochoose-clicks.dat\b\b\b\b\b\b\b\b\b\b\b\b\b\b\b\b\b\b\b\b\b\b\b\b\b\b\b\b\b                             \b\b\b\b\b\b\b\b\b\b\b\b\b\b\b\b\b\b\b\b\b\b\b\b\b\b\b\b\b 67% 1 - yoochoose-clicks.dat\b\b\b\b\b\b\b\b\b\b\b\b\b\b\b\b\b\b\b\b\b\b\b\b\b\b\b\b\b                             \b\b\b\b\b\b\b\b\b\b\b\b\b\b\b\b\b\b\b\b\b\b\b\b\b\b\b\b\b 68% 1 - yoochoose-clicks.dat\b\b\b\b\b\b\b\b\b\b\b\b\b\b\b\b\b\b\b\b\b\b\b\b\b\b\b\b\b                             \b\b\b\b\b\b\b\b\b\b\b\b\b\b\b\b\b\b\b\b\b\b\b\b\b\b\b\b\b 69% 1 - yoochoose-clicks.dat\b\b\b\b\b\b\b\b\b\b\b\b\b\b\b\b\b\b\b\b\b\b\b\b\b\b\b\b\b                             \b\b\b\b\b\b\b\b\b\b\b\b\b\b\b\b\b\b\b\b\b\b\b\b\b\b\b\b\b 70% 1 - yoochoose-clicks.dat\b\b\b\b\b\b\b\b\b\b\b\b\b\b\b\b\b\b\b\b\b\b\b\b\b\b\b\b\b                             \b\b\b\b\b\b\b\b\b\b\b\b\b\b\b\b\b\b\b\b\b\b\b\b\b\b\b\b\b 71% 1 - yoochoose-clicks.dat\b\b\b\b\b\b\b\b\b\b\b\b\b\b\b\b\b\b\b\b\b\b\b\b\b\b\b\b\b                             \b\b\b\b\b\b\b\b\b\b\b\b\b\b\b\b\b\b\b\b\b\b\b\b\b\b\b\b\b 72% 1 - yoochoose-clicks.dat\b\b\b\b\b\b\b\b\b\b\b\b\b\b\b\b\b\b\b\b\b\b\b\b\b\b\b\b\b                             \b\b\b\b\b\b\b\b\b\b\b\b\b\b\b\b\b\b\b\b\b\b\b\b\b\b\b\b\b 73% 1 - yoochoose-clicks.dat\b\b\b\b\b\b\b\b\b\b\b\b\b\b\b\b\b\b\b\b\b\b\b\b\b\b\b\b\b                             \b\b\b\b\b\b\b\b\b\b\b\b\b\b\b\b\b\b\b\b\b\b\b\b\b\b\b\b\b 74% 1 - yoochoose-clicks.dat\b\b\b\b\b\b\b\b\b\b\b\b\b\b\b\b\b\b\b\b\b\b\b\b\b\b\b\b\b                             \b\b\b\b\b\b\b\b\b\b\b\b\b\b\b\b\b\b\b\b\b\b\b\b\b\b\b\b\b 75% 1 - yoochoose-clicks.dat\b\b\b\b\b\b\b\b\b\b\b\b\b\b\b\b\b\b\b\b\b\b\b\b\b\b\b\b\b                             \b\b\b\b\b\b\b\b\b\b\b\b\b\b\b\b\b\b\b\b\b\b\b\b\b\b\b\b\b 76% 1 - yoochoose-clicks.dat\b\b\b\b\b\b\b\b\b\b\b\b\b\b\b\b\b\b\b\b\b\b\b\b\b\b\b\b\b                             \b\b\b\b\b\b\b\b\b\b\b\b\b\b\b\b\b\b\b\b\b\b\b\b\b\b\b\b\b 77% 1 - yoochoose-clicks.dat\b\b\b\b\b\b\b\b\b\b\b\b\b\b\b\b\b\b\b\b\b\b\b\b\b\b\b\b\b                             \b\b\b\b\b\b\b\b\b\b\b\b\b\b\b\b\b\b\b\b\b\b\b\b\b\b\b\b\b 78% 1 - yoochoose-clicks.dat\b\b\b\b\b\b\b\b\b\b\b\b\b\b\b\b\b\b\b\b\b\b\b\b\b\b\b\b\b                             \b\b\b\b\b\b\b\b\b\b\b\b\b\b\b\b\b\b\b\b\b\b\b\b\b\b\b\b\b 79% 1 - yoochoose-clicks.dat\b\b\b\b\b\b\b\b\b\b\b\b\b\b\b\b\b\b\b\b\b\b\b\b\b\b\b\b\b                             \b\b\b\b\b\b\b\b\b\b\b\b\b\b\b\b\b\b\b\b\b\b\b\b\b\b\b\b\b 80% 1 - yoochoose-clicks.dat\b\b\b\b\b\b\b\b\b\b\b\b\b\b\b\b\b\b\b\b\b\b\b\b\b\b\b\b\b                             \b\b\b\b\b\b\b\b\b\b\b\b\b\b\b\b\b\b\b\b\b\b\b\b\b\b\b\b\b 81% 2 - yoochoose-test.dat\b\b\b\b\b\b\b\b\b\b\b\b\b\b\b\b\b\b\b\b\b\b\b\b\b\b\b                           \b\b\b\b\b\b\b\b\b\b\b\b\b\b\b\b\b\b\b\b\b\b\b\b\b\b\b 82% 2 - yoochoose-test.dat\b\b\b\b\b\b\b\b\b\b\b\b\b\b\b\b\b\b\b\b\b\b\b\b\b\b\b                           \b\b\b\b\b\b\b\b\b\b\b\b\b\b\b\b\b\b\b\b\b\b\b\b\b\b\b 83% 2 - yoochoose-test.dat\b\b\b\b\b\b\b\b\b\b\b\b\b\b\b\b\b\b\b\b\b\b\b\b\b\b\b                           \b\b\b\b\b\b\b\b\b\b\b\b\b\b\b\b\b\b\b\b\b\b\b\b\b\b\b 84% 2 - yoochoose-test.dat\b\b\b\b\b\b\b\b\b\b\b\b\b\b\b\b\b\b\b\b\b\b\b\b\b\b\b                           \b\b\b\b\b\b\b\b\b\b\b\b\b\b\b\b\b\b\b\b\b\b\b\b\b\b\b 85% 2 - yoochoose-test.dat\b\b\b\b\b\b\b\b\b\b\b\b\b\b\b\b\b\b\b\b\b\b\b\b\b\b\b                           \b\b\b\b\b\b\b\b\b\b\b\b\b\b\b\b\b\b\b\b\b\b\b\b\b\b\b 86% 2 - yoochoose-test.dat\b\b\b\b\b\b\b\b\b\b\b\b\b\b\b\b\b\b\b\b\b\b\b\b\b\b\b                           \b\b\b\b\b\b\b\b\b\b\b\b\b\b\b\b\b\b\b\b\b\b\b\b\b\b\b 87% 2 - yoochoose-test.dat\b\b\b\b\b\b\b\b\b\b\b\b\b\b\b\b\b\b\b\b\b\b\b\b\b\b\b                           \b\b\b\b\b\b\b\b\b\b\b\b\b\b\b\b\b\b\b\b\b\b\b\b\b\b\b 88% 2 - yoochoose-test.dat\b\b\b\b\b\b\b\b\b\b\b\b\b\b\b\b\b\b\b\b\b\b\b\b\b\b\b                           \b\b\b\b\b\b\b\b\b\b\b\b\b\b\b\b\b\b\b\b\b\b\b\b\b\b\b 89% 2 - yoochoose-test.dat\b\b\b\b\b\b\b\b\b\b\b\b\b\b\b\b\b\b\b\b\b\b\b\b\b\b\b                           \b\b\b\b\b\b\b\b\b\b\b\b\b\b\b\b\b\b\b\b\b\b\b\b\b\b\b 90% 2 - yoochoose-test.dat\b\b\b\b\b\b\b\b\b\b\b\b\b\b\b\b\b\b\b\b\b\b\b\b\b\b\b                           \b\b\b\b\b\b\b\b\b\b\b\b\b\b\b\b\b\b\b\b\b\b\b\b\b\b\b 91% 2 - yoochoose-test.dat\b\b\b\b\b\b\b\b\b\b\b\b\b\b\b\b\b\b\b\b\b\b\b\b\b\b\b                           \b\b\b\b\b\b\b\b\b\b\b\b\b\b\b\b\b\b\b\b\b\b\b\b\b\b\b 92% 2 - yoochoose-test.dat\b\b\b\b\b\b\b\b\b\b\b\b\b\b\b\b\b\b\b\b\b\b\b\b\b\b\b                           \b\b\b\b\b\b\b\b\b\b\b\b\b\b\b\b\b\b\b\b\b\b\b\b\b\b\b 93% 2 - yoochoose-test.dat\b\b\b\b\b\b\b\b\b\b\b\b\b\b\b\b\b\b\b\b\b\b\b\b\b\b\b                           \b\b\b\b\b\b\b\b\b\b\b\b\b\b\b\b\b\b\b\b\b\b\b\b\b\b\b 94% 2 - yoochoose-test.dat\b\b\b\b\b\b\b\b\b\b\b\b\b\b\b\b\b\b\b\b\b\b\b\b\b\b\b                           \b\b\b\b\b\b\b\b\b\b\b\b\b\b\b\b\b\b\b\b\b\b\b\b\b\b\b 95% 2 - yoochoose-test.dat\b\b\b\b\b\b\b\b\b\b\b\b\b\b\b\b\b\b\b\b\b\b\b\b\b\b\b                           \b\b\b\b\b\b\b\b\b\b\b\b\b\b\b\b\b\b\b\b\b\b\b\b\b\b\b 96% 2 - yoochoose-test.dat\b\b\b\b\b\b\b\b\b\b\b\b\b\b\b\b\b\b\b\b\b\b\b\b\b\b\b                           \b\b\b\b\b\b\b\b\b\b\b\b\b\b\b\b\b\b\b\b\b\b\b\b\b\b\b 97% 2 - yoochoose-test.dat\b\b\b\b\b\b\b\b\b\b\b\b\b\b\b\b\b\b\b\b\b\b\b\b\b\b\b                           \b\b\b\b\b\b\b\b\b\b\b\b\b\b\b\b\b\b\b\b\b\b\b\b\b\b\b 98% 2 - yoochoose-test.dat\b\b\b\b\b\b\b\b\b\b\b\b\b\b\b\b\b\b\b\b\b\b\b\b\b\b\b                           \b\b\b\b\b\b\b\b\b\b\b\b\b\b\b\b\b\b\b\b\b\b\b\b\b\b\b 99% 2 - yoochoose-test.dat\b\b\b\b\b\b\b\b\b\b\b\b\b\b\b\b\b\b\b\b\b\b\b\b\b\b\b                           \b\b\b\b\b\b\b\b\b\b\b\b\b\b\b\b\b\b\b\b\b\b\b\b\b\b\b 99% 3\b\b\b\b\b\b      \b\b\b\b\b\bEverything is Ok\n",
            "\n",
            "Files: 4\n",
            "Size:       1914111754\n",
            "Compressed: 287211932\n"
          ],
          "name": "stdout"
        }
      ]
    },
    {
      "cell_type": "markdown",
      "metadata": {
        "id": "gpjJOcqDR945"
      },
      "source": [
        "# Preprocesar dataset"
      ]
    },
    {
      "cell_type": "code",
      "metadata": {
        "id": "7E3mSmYQR9k-"
      },
      "source": [
        "import os\n",
        "import numpy as np\n",
        "import pandas as pd\n",
        "import datetime as dt\n",
        "from matplotlib import pyplot as plt\n",
        "os.environ['TF_CPP_MIN_LOG_LEVEL'] = '3'"
      ],
      "execution_count": null,
      "outputs": []
    },
    {
      "cell_type": "code",
      "metadata": {
        "id": "WwNyFUAHRssj"
      },
      "source": [
        "src_path = './rsc15/'\n",
        "dst_path   = './data/'"
      ],
      "execution_count": null,
      "outputs": []
    },
    {
      "cell_type": "code",
      "metadata": {
        "id": "om43PXTNSoLu"
      },
      "source": [
        "def process(src_path, dst_path):\n",
        "  data = pd.read_csv(src_path + 'yoochoose-clicks.dat', sep=',', header=None, usecols=[0,1,2], dtype={0:np.int32, 1:str, 2:np.int64})\n",
        "  data.columns = ['SessionId', 'TimeStr', 'ItemId']\n",
        "\n",
        "  # Add timestamp\n",
        "  data['Time'] = data.TimeStr.apply(lambda x: dt.datetime.strptime(x, '%Y-%m-%dT%H:%M:%S.%fZ').timestamp())\n",
        "  del(data['TimeStr'])\n",
        "\n",
        "  # Filter by session size > 1\n",
        "  session_lengths = data.groupby('SessionId').size()  \n",
        "  data = data[np.in1d(data.SessionId, session_lengths[session_lengths>1].index)]\n",
        "  \n",
        "  # Filter by \"known\" (appears >= 5) items\n",
        "  item_supports = data.groupby('ItemId').size()\n",
        "  data = data[np.in1d(data.ItemId, item_supports[item_supports>=5].index)]\n",
        "  \n",
        "  # Filter by session size > 2\n",
        "  session_lengths = data.groupby('SessionId').size()\n",
        "  data = data[np.in1d(data.SessionId, session_lengths[session_lengths>=2].index)]\n",
        "\n",
        "  # Test split is entire last day\n",
        "  tmax = data.Time.max()\n",
        "  session_max_times = data.groupby('SessionId').Time.max()\n",
        "  \n",
        "  session_train = session_max_times[session_max_times < tmax-86400].index\n",
        "  train = data[np.in1d(data.SessionId, session_train)]\n",
        "  \n",
        "  session_test = session_max_times[session_max_times >= tmax-86400].index\n",
        "  test = data[np.in1d(data.SessionId, session_test)]\n",
        "  test = test[np.in1d(test.ItemId, train.ItemId)]\n",
        "  tslength = test.groupby('SessionId').size()\n",
        "  test = test[np.in1d(test.SessionId, tslength[tslength>=2].index)]\n",
        "  print('Test set\\n\\tEvents: {}\\n\\tSessions: {}\\n\\tItems: {}'.format(len(test), test.SessionId.nunique(), test.ItemId.nunique()))\n",
        "  test.to_csv(dst_path + 'test.tsv', sep='\\t', index=False)\n",
        "\n",
        "  # Validation: second to last day. Train: remainder\n",
        "  tmax = train.Time.max()\n",
        "  session_max_times = train.groupby('SessionId').Time.max()\n",
        "  session_train = session_max_times[session_max_times < tmax-86400].index\n",
        "  session_valid = session_max_times[session_max_times >= tmax-86400].index\n",
        "\n",
        "  train_tr = train[np.in1d(train.SessionId, session_train)]\n",
        "  valid = train[np.in1d(train.SessionId, session_valid)]\n",
        "  valid = valid[np.in1d(valid.ItemId, train_tr.ItemId)]\n",
        "  tslength = valid.groupby('SessionId').size()\n",
        "  valid = valid[np.in1d(valid.SessionId, tslength[tslength>=2].index)]\n",
        "  print('Validation set\\n\\tEvents: {}\\n\\tSessions: {}\\n\\tItems: {}'.format(len(valid), valid.SessionId.nunique(), valid.ItemId.nunique()))\n",
        "  valid.to_csv(dst_path + 'validation.tsv', sep='\\t', index=False)\n",
        "  \n",
        "  \n",
        "  print('Train set\\n\\tEvents: {}\\n\\tSessions: {}\\n\\tItems: {}'.format(len(train_tr), train_tr.SessionId.nunique(), train_tr.ItemId.nunique()))\n",
        "  train_tr.to_csv(dst_path + 'train.tsv', sep='\\t', index=False)\n"
      ],
      "execution_count": null,
      "outputs": []
    },
    {
      "cell_type": "code",
      "metadata": {
        "id": "nc6wy4phS1v2",
        "outputId": "57b912c6-b709-4c87-b82f-fd9a8e9163e8",
        "colab": {
          "base_uri": "https://localhost:8080/"
        }
      },
      "source": [
        "process(src_path, dst_path)  # Takes ~10 minutes"
      ],
      "execution_count": null,
      "outputs": [
        {
          "output_type": "stream",
          "text": [
            "Test set\n",
            "\tEvents: 71222\n",
            "\tSessions: 15324\n",
            "\tItems: 6751\n",
            "Validation set\n",
            "\tEvents: 58233\n",
            "\tSessions: 12372\n",
            "\tItems: 6359\n",
            "Train set\n",
            "\tEvents: 31579006\n",
            "\tSessions: 7953885\n",
            "\tItems: 37483\n"
          ],
          "name": "stdout"
        }
      ]
    },
    {
      "cell_type": "code",
      "metadata": {
        "id": "kx_HdipUDS2z"
      },
      "source": [
        "def train_fraction(df, fraction, prefix=\"train\", path=\"./data/\"):\n",
        "    \n",
        "    length = len(df['ItemId'])\n",
        "    first_session = df.iloc[length - length//fraction].SessionId\n",
        "    df = df.loc[df['SessionId'] >= first_session]\n",
        "    itemids = df['ItemId'].unique()\n",
        "    n_items = len(itemids)\n",
        "\n",
        "    print('Fractioned data set\\n\\tEvents: {}\\n\\tSessions: {}\\n\\tItems: {}'.format(len(df), df.SessionId.nunique(), df.ItemId.nunique()))\n",
        "    filename = path + '{}_{}.tsv'.format(prefix, fraction)\n",
        "    df.to_csv(filename, sep='\\t', index=False)\n",
        "    print(\"Saved as {}\".format(filename))"
      ],
      "execution_count": null,
      "outputs": []
    },
    {
      "cell_type": "code",
      "metadata": {
        "id": "4r1tWG1gh7eX",
        "outputId": "1ad7c39d-7d6e-441f-8251-f77045ca6da2",
        "colab": {
          "base_uri": "https://localhost:8080/"
        }
      },
      "source": [
        "# Obtain most recent 1/nth fraction of train for demo purposes\n",
        "fraction = 64\n",
        "train = pd.read_csv(dst_path + 'train.tsv', sep='\\t', dtype={'ItemId':np.int64})\n",
        "train_fraction(train, fraction)\n"
      ],
      "execution_count": null,
      "outputs": [
        {
          "output_type": "stream",
          "text": [
            "Fractioned data set\n",
            "\tEvents: 71391\n",
            "\tSessions: 17450\n",
            "\tItems: 8724\n",
            "Saved as ./data/train_64.tsv\n"
          ],
          "name": "stdout"
        }
      ]
    },
    {
      "cell_type": "markdown",
      "metadata": {
        "id": "ZWgvazVufHs6"
      },
      "source": [
        "# Entrenamiento"
      ]
    },
    {
      "cell_type": "code",
      "metadata": {
        "id": "PSPwVh4AS_GW",
        "outputId": "e6695d40-8aa8-4a90-97ac-2a55781c32f8",
        "colab": {
          "base_uri": "https://localhost:8080/"
        }
      },
      "source": [
        "!python src/model/gru4rec.py --epochs 200 --train-path ./data/train_64.tsv --dev-path ./data/validation.tsv --test-path ./data/test.tsv"
      ],
      "execution_count": null,
      "outputs": [
        {
          "output_type": "stream",
          "text": [
            "Model: \"functional_1\"\n",
            "_________________________________________________________________\n",
            "Layer (type)                 Output Shape              Param #   \n",
            "=================================================================\n",
            "input_1 (InputLayer)         [(512, 1, 8725)]          0         \n",
            "_________________________________________________________________\n",
            "GRU (GRU)                    [(512, 100), (512, 100)]  2648100   \n",
            "_________________________________________________________________\n",
            "dropout (Dropout)            (512, 100)                0         \n",
            "_________________________________________________________________\n",
            "dense (Dense)                (512, 8725)               881225    \n",
            "=================================================================\n",
            "Total params: 3,529,325\n",
            "Trainable params: 3,529,325\n",
            "Non-trainable params: 0\n",
            "_________________________________________________________________\n",
            "Epoch 1. Loss: 8.32913:  97% 16929/17451 [00:12<00:00, 1389.56it/s]\n",
            "Epoch 2. Loss: 7.87454:  97% 16929/17451 [00:04<00:00, 3454.06it/s]\n",
            "Epoch 3. Loss: 7.60716:  97% 16929/17451 [00:04<00:00, 3450.57it/s]\n",
            "Epoch 4. Loss: 7.40352:  97% 16929/17451 [00:04<00:00, 3458.69it/s]\n",
            "Epoch 5. Loss: 7.26990:  97% 16929/17451 [00:04<00:00, 3433.90it/s]\n",
            "Epoch 6. Loss: 7.16683:  97% 16929/17451 [00:04<00:00, 3424.58it/s]\n",
            "Epoch 7. Loss: 7.04228:  97% 16929/17451 [00:04<00:00, 3422.61it/s]\n",
            "Epoch 8. Loss: 6.86948:  97% 16929/17451 [00:05<00:00, 3375.72it/s]\n",
            "Epoch 9. Loss: 6.69941:  97% 16929/17451 [00:04<00:00, 3444.36it/s]\n",
            "Epoch 10. Loss: 6.47714:  97% 16929/17451 [00:04<00:00, 3492.18it/s]\n",
            "Epoch 11. Loss: 6.28494:  97% 16929/17451 [00:04<00:00, 3472.46it/s]\n",
            "Epoch 12. Loss: 6.08892:  97% 16929/17451 [00:04<00:00, 3445.25it/s]\n",
            "Epoch 13. Loss: 5.89377:  97% 16929/17451 [00:04<00:00, 3437.84it/s]\n",
            "Epoch 14. Loss: 5.73801:  97% 16929/17451 [00:04<00:00, 3437.75it/s]\n",
            "Epoch 15. Loss: 5.57253:  97% 16929/17451 [00:04<00:00, 3457.40it/s]\n",
            "Epoch 16. Loss: 5.41386:  97% 16929/17451 [00:04<00:00, 3477.81it/s]\n",
            "Epoch 17. Loss: 5.24566:  97% 16929/17451 [00:04<00:00, 3459.99it/s]\n",
            "Epoch 18. Loss: 5.12285:  97% 16929/17451 [00:04<00:00, 3485.30it/s]\n",
            "Epoch 19. Loss: 5.00060:  97% 16929/17451 [00:04<00:00, 3441.49it/s]\n",
            "Epoch 20. Loss: 4.86076:  97% 16929/17451 [00:04<00:00, 3402.36it/s]\n",
            "Epoch 21. Loss: 4.76540:  97% 16929/17451 [00:04<00:00, 3449.27it/s]\n",
            "Epoch 22. Loss: 4.63317:  97% 16929/17451 [00:04<00:00, 3462.97it/s]\n",
            "Epoch 23. Loss: 4.50077:  97% 16929/17451 [00:04<00:00, 3458.43it/s]\n",
            "Epoch 24. Loss: 4.39453:  97% 16929/17451 [00:04<00:00, 3447.48it/s]\n",
            "Epoch 25. Loss: 4.25981:  97% 16929/17451 [00:04<00:00, 3489.13it/s]\n",
            "Epoch 26. Loss: 4.13247:  97% 16929/17451 [00:04<00:00, 3437.31it/s]\n",
            "Epoch 27. Loss: 4.06749:  97% 16929/17451 [00:04<00:00, 3444.91it/s]\n",
            "Epoch 28. Loss: 3.95580:  97% 16929/17451 [00:04<00:00, 3416.77it/s]\n",
            "Epoch 29. Loss: 3.83760:  97% 16929/17451 [00:04<00:00, 3438.30it/s]\n",
            "Epoch 30. Loss: 3.80664:  97% 16929/17451 [00:04<00:00, 3458.52it/s]\n",
            "Epoch 31. Loss: 3.66048:  97% 16929/17451 [00:04<00:00, 3464.68it/s]\n",
            "Epoch 32. Loss: 3.56999:  97% 16929/17451 [00:04<00:00, 3482.74it/s]\n",
            "Epoch 33. Loss: 3.48470:  97% 16929/17451 [00:04<00:00, 3458.85it/s]\n",
            "Epoch 34. Loss: 3.38643:  97% 16929/17451 [00:04<00:00, 3430.59it/s]\n",
            "Epoch 35. Loss: 3.33027:  97% 16929/17451 [00:04<00:00, 3485.80it/s]\n",
            "Epoch 36. Loss: 3.23640:  97% 16929/17451 [00:04<00:00, 3448.59it/s]\n",
            "Epoch 37. Loss: 3.15548:  97% 16929/17451 [00:04<00:00, 3485.58it/s]\n",
            "Epoch 38. Loss: 3.10564:  97% 16929/17451 [00:04<00:00, 3443.79it/s]\n",
            "Epoch 39. Loss: 3.02101:  97% 16929/17451 [00:04<00:00, 3473.05it/s]\n",
            "Epoch 40. Loss: 2.96942:  97% 16929/17451 [00:04<00:00, 3446.70it/s]\n",
            "Epoch 41. Loss: 2.87532:  97% 16929/17451 [00:04<00:00, 3480.10it/s]\n",
            "Epoch 42. Loss: 2.83606:  97% 16929/17451 [00:04<00:00, 3496.61it/s]\n",
            "Epoch 43. Loss: 2.78651:  97% 16929/17451 [00:04<00:00, 3456.13it/s]\n",
            "Epoch 44. Loss: 2.73608:  97% 16929/17451 [00:04<00:00, 3471.91it/s]\n",
            "Epoch 45. Loss: 2.66978:  97% 16929/17451 [00:04<00:00, 3416.26it/s]\n",
            "Epoch 46. Loss: 2.59689:  97% 16929/17451 [00:04<00:00, 3458.06it/s]\n",
            "Epoch 47. Loss: 2.63655:  97% 16929/17451 [00:04<00:00, 3478.01it/s]\n",
            "Epoch 48. Loss: 2.55806:  97% 16929/17451 [00:04<00:00, 3438.62it/s]\n",
            "Epoch 49. Loss: 2.51028:  97% 16929/17451 [00:04<00:00, 3482.87it/s]\n",
            "Epoch 50. Loss: 2.47988:  97% 16929/17451 [00:04<00:00, 3482.33it/s]\n",
            "Epoch 51. Loss: 2.46453:  97% 16929/17451 [00:04<00:00, 3453.46it/s]\n",
            "Epoch 52. Loss: 2.45261:  97% 16929/17451 [00:04<00:00, 3463.61it/s]\n",
            "Epoch 53. Loss: 2.38656:  97% 16929/17451 [00:04<00:00, 3490.02it/s]\n",
            "Epoch 54. Loss: 2.42442:  97% 16929/17451 [00:04<00:00, 3487.33it/s]\n",
            "Epoch 55. Loss: 2.38001:  97% 16929/17451 [00:04<00:00, 3460.57it/s]\n",
            "Epoch 56. Loss: 2.36247:  97% 16929/17451 [00:04<00:00, 3477.79it/s]\n",
            "Epoch 57. Loss: 2.32504:  97% 16929/17451 [00:04<00:00, 3451.12it/s]\n",
            "Epoch 58. Loss: 2.30267:  97% 16929/17451 [00:04<00:00, 3483.22it/s]\n",
            "Epoch 59. Loss: 2.26551:  97% 16929/17451 [00:04<00:00, 3418.35it/s]\n",
            "Epoch 60. Loss: 2.26226:  97% 16929/17451 [00:04<00:00, 3456.11it/s]\n",
            "Epoch 61. Loss: 2.24278:  97% 16929/17451 [00:04<00:00, 3418.30it/s]\n",
            "Epoch 62. Loss: 2.22759:  97% 16929/17451 [00:04<00:00, 3436.82it/s]\n",
            "Epoch 63. Loss: 2.20676:  97% 16929/17451 [00:04<00:00, 3487.06it/s]\n",
            "Epoch 64. Loss: 2.21414:  97% 16929/17451 [00:04<00:00, 3459.02it/s]\n",
            "Epoch 65. Loss: 2.23325:  97% 16929/17451 [00:04<00:00, 3443.58it/s]\n",
            "Epoch 66. Loss: 2.21816:  97% 16929/17451 [00:04<00:00, 3485.57it/s]\n",
            "Epoch 67. Loss: 2.19712:  97% 16929/17451 [00:04<00:00, 3481.55it/s]\n",
            "Epoch 68. Loss: 2.14391:  97% 16929/17451 [00:04<00:00, 3477.53it/s]\n",
            "Epoch 69. Loss: 2.12189:  97% 16929/17451 [00:04<00:00, 3467.79it/s]\n",
            "Epoch 70. Loss: 2.15155:  97% 16929/17451 [00:05<00:00, 3357.79it/s]\n",
            "Epoch 71. Loss: 2.12358:  97% 16929/17451 [00:04<00:00, 3386.21it/s]\n",
            "Epoch 72. Loss: 2.10361:  97% 16929/17451 [00:04<00:00, 3471.05it/s]\n",
            "Epoch 73. Loss: 2.09937:  97% 16929/17451 [00:04<00:00, 3477.78it/s]\n",
            "Epoch 74. Loss: 2.08365:  97% 16929/17451 [00:04<00:00, 3453.73it/s]\n",
            "Epoch 75. Loss: 2.12727:  97% 16929/17451 [00:04<00:00, 3443.02it/s]\n",
            "Epoch 76. Loss: 2.10440:  97% 16929/17451 [00:04<00:00, 3441.64it/s]\n",
            "Epoch 77. Loss: 2.06951:  97% 16929/17451 [00:04<00:00, 3459.82it/s]\n",
            "Epoch 78. Loss: 2.07347:  97% 16929/17451 [00:04<00:00, 3447.52it/s]\n",
            "Epoch 79. Loss: 2.05388:  97% 16929/17451 [00:04<00:00, 3476.49it/s]\n",
            "Epoch 80. Loss: 2.04564:  97% 16929/17451 [00:04<00:00, 3464.20it/s]\n",
            "Epoch 81. Loss: 2.03988:  97% 16929/17451 [00:04<00:00, 3496.09it/s]\n",
            "Epoch 82. Loss: 2.01605:  97% 16929/17451 [00:04<00:00, 3433.91it/s]\n",
            "Epoch 83. Loss: 2.06057:  97% 16929/17451 [00:04<00:00, 3398.27it/s]\n",
            "Epoch 84. Loss: 2.00671:  97% 16929/17451 [00:04<00:00, 3455.74it/s]\n",
            "Epoch 85. Loss: 1.98143:  97% 16929/17451 [00:04<00:00, 3467.40it/s]\n",
            "Epoch 86. Loss: 1.98463:  97% 16929/17451 [00:04<00:00, 3462.70it/s]\n",
            "Epoch 87. Loss: 1.99696:  97% 16929/17451 [00:04<00:00, 3490.78it/s]\n",
            "Epoch 88. Loss: 1.98600:  97% 16929/17451 [00:04<00:00, 3414.63it/s]\n",
            "Epoch 89. Loss: 1.94159:  97% 16929/17451 [00:04<00:00, 3456.44it/s]\n",
            "Epoch 90. Loss: 1.96424:  97% 16929/17451 [00:04<00:00, 3494.84it/s]\n",
            "Epoch 91. Loss: 1.90566:  97% 16929/17451 [00:04<00:00, 3469.45it/s]\n",
            "Epoch 92. Loss: 1.98759:  97% 16929/17451 [00:04<00:00, 3449.39it/s]\n",
            "Epoch 93. Loss: 1.99179:  97% 16929/17451 [00:04<00:00, 3490.76it/s]\n",
            "Epoch 94. Loss: 1.92882:  97% 16929/17451 [00:04<00:00, 3437.86it/s]\n",
            "Epoch 95. Loss: 1.93286:  97% 16929/17451 [00:04<00:00, 3429.15it/s]\n",
            "Epoch 96. Loss: 1.92893:  97% 16929/17451 [00:04<00:00, 3450.22it/s]\n",
            "Epoch 97. Loss: 1.93630:  97% 16929/17451 [00:04<00:00, 3486.65it/s]\n",
            "Epoch 98. Loss: 1.94129:  97% 16929/17451 [00:04<00:00, 3489.59it/s]\n",
            "Epoch 99. Loss: 1.84911:  97% 16929/17451 [00:04<00:00, 3478.54it/s]\n",
            "Epoch 100. Loss: 1.89919:  97% 16929/17451 [00:04<00:00, 3477.28it/s]\n",
            "Epoch 101. Loss: 1.89147:  97% 16929/17451 [00:04<00:00, 3461.68it/s]\n",
            "Epoch 102. Loss: 1.86427:  97% 16929/17451 [00:04<00:00, 3437.58it/s]\n",
            "Epoch 103. Loss: 1.89598:  97% 16929/17451 [00:04<00:00, 3485.05it/s]\n",
            "Epoch 104. Loss: 1.85788:  97% 16929/17451 [00:04<00:00, 3474.99it/s]\n",
            "Epoch 105. Loss: 1.84474:  97% 16929/17451 [00:04<00:00, 3439.75it/s]\n",
            "Epoch 106. Loss: 1.91575:  97% 16929/17451 [00:04<00:00, 3473.81it/s]\n",
            "Epoch 107. Loss: 1.87605:  97% 16929/17451 [00:04<00:00, 3424.96it/s]\n",
            "Epoch 108. Loss: 1.85964:  97% 16929/17451 [00:04<00:00, 3435.95it/s]\n",
            "Epoch 109. Loss: 1.88779:  97% 16929/17451 [00:04<00:00, 3484.55it/s]\n",
            "Epoch 110. Loss: 1.87003:  97% 16929/17451 [00:04<00:00, 3482.38it/s]\n",
            "Epoch 111. Loss: 1.87221:  97% 16929/17451 [00:04<00:00, 3455.79it/s]\n",
            "Epoch 112. Loss: 1.82405:  97% 16929/17451 [00:04<00:00, 3433.35it/s]\n",
            "Epoch 113. Loss: 1.81819:  97% 16929/17451 [00:04<00:00, 3443.00it/s]\n",
            "Epoch 114. Loss: 1.78737:  97% 16929/17451 [00:04<00:00, 3490.73it/s]\n",
            "Epoch 115. Loss: 1.86818:  97% 16929/17451 [00:04<00:00, 3480.28it/s]\n",
            "Epoch 116. Loss: 1.80974:  97% 16929/17451 [00:04<00:00, 3478.20it/s]\n",
            "Epoch 117. Loss: 1.78074:  97% 16929/17451 [00:04<00:00, 3472.77it/s]\n",
            "Epoch 118. Loss: 1.84582:  97% 16929/17451 [00:04<00:00, 3496.14it/s]\n",
            "Epoch 119. Loss: 1.74322:  97% 16929/17451 [00:04<00:00, 3437.34it/s]\n",
            "Epoch 120. Loss: 1.83181:  97% 16929/17451 [00:04<00:00, 3491.53it/s]\n",
            "Epoch 121. Loss: 1.79862:  97% 16929/17451 [00:04<00:00, 3449.21it/s]\n",
            "Epoch 122. Loss: 1.79588:  97% 16929/17451 [00:04<00:00, 3467.19it/s]\n",
            "Epoch 123. Loss: 1.78071:  97% 16929/17451 [00:04<00:00, 3491.52it/s]\n",
            "Epoch 124. Loss: 1.75732:  97% 16929/17451 [00:04<00:00, 3471.82it/s]\n",
            "Epoch 125. Loss: 1.82989:  97% 16929/17451 [00:04<00:00, 3503.37it/s]\n",
            "Epoch 126. Loss: 1.82832:  97% 16929/17451 [00:04<00:00, 3475.14it/s]\n",
            "Epoch 127. Loss: 1.75682:  97% 16929/17451 [00:04<00:00, 3446.15it/s]\n",
            "Epoch 128. Loss: 1.76458:  97% 16929/17451 [00:04<00:00, 3439.71it/s]\n",
            "Epoch 129. Loss: 1.76845:  97% 16929/17451 [00:04<00:00, 3471.74it/s]\n",
            "Epoch 130. Loss: 1.79876:  97% 16929/17451 [00:04<00:00, 3473.35it/s]\n",
            "Epoch 131. Loss: 1.75364:  97% 16929/17451 [00:04<00:00, 3471.81it/s]\n",
            "Epoch 132. Loss: 1.74488:  97% 16929/17451 [00:04<00:00, 3449.17it/s]\n",
            "Epoch 133. Loss: 1.68113:  97% 16929/17451 [00:04<00:00, 3403.37it/s]\n",
            "Epoch 134. Loss: 1.73120:  97% 16929/17451 [00:04<00:00, 3413.02it/s]\n",
            "Epoch 135. Loss: 1.76319:  97% 16929/17451 [00:04<00:00, 3420.46it/s]\n",
            "Epoch 136. Loss: 1.74982:  97% 16929/17451 [00:04<00:00, 3475.38it/s]\n",
            "Epoch 137. Loss: 1.71828:  97% 16929/17451 [00:04<00:00, 3481.01it/s]\n",
            "Epoch 138. Loss: 1.74574:  97% 16929/17451 [00:04<00:00, 3476.99it/s]\n",
            "Epoch 139. Loss: 1.76121:  97% 16929/17451 [00:04<00:00, 3509.19it/s]\n",
            "Epoch 140. Loss: 1.74154:  97% 16929/17451 [00:04<00:00, 3477.65it/s]\n",
            "Epoch 141. Loss: 1.73341:  97% 16929/17451 [00:04<00:00, 3457.15it/s]\n",
            "Epoch 142. Loss: 1.70966:  97% 16929/17451 [00:04<00:00, 3494.64it/s]\n",
            "Epoch 143. Loss: 1.75529:  97% 16929/17451 [00:04<00:00, 3453.11it/s]\n",
            "Epoch 144. Loss: 1.74035:  97% 16929/17451 [00:04<00:00, 3431.66it/s]\n",
            "Epoch 145. Loss: 1.70925:  97% 16929/17451 [00:04<00:00, 3437.56it/s]\n",
            "Epoch 146. Loss: 1.71439:  97% 16929/17451 [00:04<00:00, 3465.16it/s]\n",
            "Epoch 147. Loss: 1.71505:  97% 16929/17451 [00:04<00:00, 3485.58it/s]\n",
            "Epoch 148. Loss: 1.67103:  97% 16929/17451 [00:04<00:00, 3482.62it/s]\n",
            "Epoch 149. Loss: 1.70341:  97% 16929/17451 [00:04<00:00, 3445.73it/s]\n",
            "Epoch 150. Loss: 1.68817:  97% 16929/17451 [00:04<00:00, 3452.39it/s]\n",
            "Epoch 151. Loss: 1.72366:  97% 16929/17451 [00:04<00:00, 3452.74it/s]\n",
            "Epoch 152. Loss: 1.73138:  97% 16929/17451 [00:04<00:00, 3494.91it/s]\n",
            "Epoch 153. Loss: 1.62782:  97% 16929/17451 [00:04<00:00, 3462.22it/s]\n",
            "Epoch 154. Loss: 1.67407:  97% 16929/17451 [00:04<00:00, 3476.96it/s]\n",
            "Epoch 155. Loss: 1.70191:  97% 16929/17451 [00:04<00:00, 3503.01it/s]\n",
            "Epoch 156. Loss: 1.67704:  97% 16929/17451 [00:04<00:00, 3469.67it/s]\n",
            "Epoch 157. Loss: 1.69118:  97% 16929/17451 [00:04<00:00, 3448.27it/s]\n",
            "Epoch 158. Loss: 1.64448:  97% 16929/17451 [00:04<00:00, 3482.03it/s]\n",
            "Epoch 159. Loss: 1.68678:  97% 16929/17451 [00:04<00:00, 3468.53it/s]\n",
            "Epoch 160. Loss: 1.67179:  97% 16929/17451 [00:04<00:00, 3440.90it/s]\n",
            "Epoch 161. Loss: 1.70025:  97% 16929/17451 [00:04<00:00, 3483.96it/s]\n",
            "Epoch 162. Loss: 1.67750:  97% 16929/17451 [00:04<00:00, 3491.35it/s]\n",
            "Epoch 163. Loss: 1.65373:  97% 16929/17451 [00:04<00:00, 3475.67it/s]\n",
            "Epoch 164. Loss: 1.64694:  97% 16929/17451 [00:04<00:00, 3480.05it/s]\n",
            "Epoch 165. Loss: 1.66091:  97% 16929/17451 [00:04<00:00, 3494.24it/s]\n",
            "Epoch 166. Loss: 1.69304:  97% 16929/17451 [00:04<00:00, 3441.33it/s]\n",
            "Epoch 167. Loss: 1.62349:  97% 16929/17451 [00:04<00:00, 3497.70it/s]\n",
            "Epoch 168. Loss: 1.66481:  97% 16929/17451 [00:04<00:00, 3466.94it/s]\n",
            "Epoch 169. Loss: 1.69962:  97% 16929/17451 [00:04<00:00, 3486.90it/s]\n",
            "Epoch 170. Loss: 1.69183:  97% 16929/17451 [00:04<00:00, 3447.23it/s]\n",
            "Epoch 171. Loss: 1.68507:  97% 16929/17451 [00:04<00:00, 3500.23it/s]\n",
            "Epoch 172. Loss: 1.65063:  97% 16929/17451 [00:04<00:00, 3516.52it/s]\n",
            "Epoch 173. Loss: 1.64061:  97% 16929/17451 [00:04<00:00, 3491.92it/s]\n",
            "Epoch 174. Loss: 1.62496:  97% 16929/17451 [00:04<00:00, 3488.19it/s]\n",
            "Epoch 175. Loss: 1.63814:  97% 16929/17451 [00:04<00:00, 3437.75it/s]\n",
            "Epoch 176. Loss: 1.70123:  97% 16929/17451 [00:04<00:00, 3490.65it/s]\n",
            "Epoch 177. Loss: 1.59859:  97% 16929/17451 [00:04<00:00, 3455.91it/s]\n",
            "Epoch 178. Loss: 1.60271:  97% 16929/17451 [00:04<00:00, 3463.64it/s]\n",
            "Epoch 179. Loss: 1.63251:  97% 16929/17451 [00:04<00:00, 3461.01it/s]\n",
            "Epoch 180. Loss: 1.59877:  97% 16929/17451 [00:04<00:00, 3474.43it/s]\n",
            "Epoch 181. Loss: 1.63385:  97% 16929/17451 [00:04<00:00, 3484.52it/s]\n",
            "Epoch 182. Loss: 1.59523:  97% 16929/17451 [00:04<00:00, 3459.01it/s]\n",
            "Epoch 183. Loss: 1.63520:  97% 16929/17451 [00:04<00:00, 3457.75it/s]\n",
            "Epoch 184. Loss: 1.55906:  97% 16929/17451 [00:04<00:00, 3488.13it/s]\n",
            "Epoch 185. Loss: 1.54891:  97% 16929/17451 [00:04<00:00, 3440.50it/s]\n",
            "Epoch 186. Loss: 1.60488:  97% 16929/17451 [00:04<00:00, 3444.78it/s]\n",
            "Epoch 187. Loss: 1.58419:  97% 16929/17451 [00:04<00:00, 3424.40it/s]\n",
            "Epoch 188. Loss: 1.60681:  97% 16929/17451 [00:04<00:00, 3401.42it/s]\n",
            "Epoch 189. Loss: 1.59142:  97% 16929/17451 [00:04<00:00, 3453.74it/s]\n",
            "Epoch 190. Loss: 1.54950:  97% 16929/17451 [00:04<00:00, 3492.52it/s]\n",
            "Epoch 191. Loss: 1.60258:  97% 16929/17451 [00:04<00:00, 3482.98it/s]\n",
            "Epoch 192. Loss: 1.55590:  97% 16929/17451 [00:04<00:00, 3462.98it/s]\n",
            "Epoch 193. Loss: 1.58257:  97% 16929/17451 [00:04<00:00, 3459.82it/s]\n",
            "Epoch 194. Loss: 1.61392:  97% 16929/17451 [00:04<00:00, 3450.14it/s]\n",
            "Epoch 195. Loss: 1.63308:  97% 16929/17451 [00:04<00:00, 3450.97it/s]\n",
            "Epoch 196. Loss: 1.66637:  97% 16929/17451 [00:04<00:00, 3484.69it/s]\n",
            "Epoch 197. Loss: 1.53553:  97% 16929/17451 [00:05<00:00, 3367.21it/s]\n",
            "Epoch 198. Loss: 1.59778:  97% 16929/17451 [00:05<00:00, 3364.55it/s]\n",
            "Epoch 199. Loss: 1.60182:  97% 16929/17451 [00:04<00:00, 3436.51it/s]\n",
            "Evaluating model...\n",
            "\t - Recall@20 epoch 200: 0.457828\n",
            "\t - MRR@20    epoch 200: 0.161428\n",
            "\n"
          ],
          "name": "stdout"
        }
      ]
    },
    {
      "cell_type": "markdown",
      "metadata": {
        "id": "tk9EgsON-8Sr"
      },
      "source": [
        "## Resultados\n",
        "\n",
        "Luego de 200 épocas, deberías obtener un desempeño similar al siguiente:\n",
        "\n",
        "\t - Recall@20: 0.47\n",
        "\t - MRR@20   : 0.16\n",
        "\n",
        "\n",
        "Para replicar resultados del paper, utiliza el set de entrenamiento completo"
      ]
    },
    {
      "cell_type": "markdown",
      "metadata": {
        "id": "njfQIzqi_KK8"
      },
      "source": [
        "## Aprovechando información implícita: Dwell Time\n",
        "\n",
        "Podemos utilizar el tiempo que cada item fue visitado por cada usuario para realizar mejores recomendaciones.\n",
        "\n",
        "El supuesto es: a mayor tiempo de permanencia (dwell time) en un item, más interesado está el usuario en dicho item.\n",
        "\n",
        "Se hará item boosting en el set de entrenamiento."
      ]
    },
    {
      "cell_type": "code",
      "metadata": {
        "id": "lh9fruDcuVYg"
      },
      "source": [
        "def preprocess_df(df):    \n",
        "    n_items = len(df['ItemId'].unique())\n",
        "    aux = list(df['ItemId'].unique())\n",
        "    itemids = np.array(aux)\n",
        "    itemidmap = pd.Series(data=np.arange(n_items), index=itemids)  # (id_item => (0, n_items))\n",
        "    \n",
        "    item_key = 'ItemId'\n",
        "    session_key = 'SessionId'\n",
        "    time_key = 'Time'\n",
        "    \n",
        "    data = pd.merge(df, pd.DataFrame({item_key:itemids, 'ItemIdx':itemidmap[itemids].values}), on=item_key, how='inner')\n",
        "    data.sort_values([session_key, time_key], inplace=True)\n",
        "\n",
        "    length = len(data['ItemId'])\n",
        "        \n",
        "    return data"
      ],
      "execution_count": null,
      "outputs": []
    },
    {
      "cell_type": "code",
      "metadata": {
        "id": "j5O-1YDR_vNY"
      },
      "source": [
        "def compute_dwell_time(df):\n",
        "    times_t = np.roll(df['Time'], -1) # Take time row\n",
        "    times_dt  = df['Time']            # Copy, then displace by one\n",
        "    diffs = np.subtract(times_t, times_dt) # Take pairwise difference\n",
        "    length = len(df['ItemId'])\n",
        "    \n",
        "    # cummulative offset start for each session\n",
        "    offset_sessions = np.zeros(df['SessionId'].nunique()+1, dtype=np.int32)\n",
        "    offset_sessions[1:] = df.groupby('SessionId').size().cumsum() \n",
        "    offset_sessions = offset_sessions - 1\n",
        "    offset_sessions = np.roll(offset_sessions, -1)\n",
        "    \n",
        "    np.put(diffs.values, offset_sessions, np.zeros((offset_sessions.shape)), mode='raise')\n",
        "\n",
        "    return diffs"
      ],
      "execution_count": null,
      "outputs": []
    },
    {
      "cell_type": "code",
      "metadata": {
        "id": "7vFvOPH9Bfeq"
      },
      "source": [
        "def get_distribution(dts):\n",
        "    filtered = np.array(list(filter(lambda x: int(x) != 0, dts)))\n",
        "    pd_dts = pd.DataFrame(filtered)\n",
        "    pd_dts.boxplot(vert=False, showfliers=False)\n",
        "    plt.xlabel(\"Seconds\")\n",
        "    plt.yticks([])\n",
        "    plt.title(\"Dwell time distribution for RSC15 dataset\")\n",
        "    plt.show()\n",
        "    pd_dts.describe()"
      ],
      "execution_count": null,
      "outputs": []
    },
    {
      "cell_type": "code",
      "metadata": {
        "id": "pPxWD0xPBfVE"
      },
      "source": [
        "def join_dwell_reps(df, dt, threshold=2000):\n",
        "    # Calculate d_ti/threshold + 1 then add column to dataFrame\n",
        "    dt //= threshold\n",
        "    dt += 1   \n",
        "    df['DwellReps'] = pd.Series(dt.astype(np.int64), index=dt.index)"
      ],
      "execution_count": null,
      "outputs": []
    },
    {
      "cell_type": "code",
      "metadata": {
        "id": "jYX1RjhQ_wZG"
      },
      "source": [
        "def augment(df):    \n",
        "    col_names = list(df.columns.values)[:3]\n",
        "    augmented = np.repeat(df.values, df['DwellReps'], axis=0) \n",
        "    augmented = pd.DataFrame(data=augmented[:,:3],\n",
        "                             columns=col_names)\n",
        "    dtype = {'SessionId': np.int64, \n",
        "             'ItemId': np.int64, \n",
        "             'Time': np.float32}\n",
        "    \n",
        "    for k, v in dtype.items():\n",
        "        augmented[k] = augmented[k].astype(v)                  \n",
        "    \n",
        "    return augmented"
      ],
      "execution_count": null,
      "outputs": []
    },
    {
      "cell_type": "code",
      "metadata": {
        "id": "veILDG2X_yJm"
      },
      "source": [
        "new_df = preprocess_df(train)\n",
        "dts = compute_dwell_time(new_df)"
      ],
      "execution_count": null,
      "outputs": []
    },
    {
      "cell_type": "code",
      "metadata": {
        "id": "7xIJMF5aABmF",
        "outputId": "21f25a0f-4971-45e1-ce2e-08ab03e56b96",
        "colab": {
          "base_uri": "https://localhost:8080/",
          "height": 295
        }
      },
      "source": [
        "# Visualize\n",
        "get_distribution(dts)"
      ],
      "execution_count": null,
      "outputs": [
        {
          "output_type": "display_data",
          "data": {
            "image/png": "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\n",
            "text/plain": [
              "<Figure size 432x288 with 1 Axes>"
            ]
          },
          "metadata": {
            "tags": [],
            "needs_background": "light"
          }
        }
      ]
    },
    {
      "cell_type": "code",
      "metadata": {
        "id": "Y4mZ3YB0Ai4q"
      },
      "source": [
        "# threshold is a hyperparameter\n",
        "join_dwell_reps(new_df, dts, threshold=75)\n",
        "\n",
        "# augment the sessions copying each entry an additional (dwellReps[i]-1) times\n",
        "df_aug = augment(new_df)\n",
        "df_aug.to_csv(\"./data/augmented_train.csv\", index=False, sep='\\t')"
      ],
      "execution_count": null,
      "outputs": []
    },
    {
      "cell_type": "code",
      "metadata": {
        "id": "X1N36STyCrrs",
        "outputId": "1e3315fa-0ed1-4cd8-f9c6-fc82d7947ea6",
        "colab": {
          "base_uri": "https://localhost:8080/"
        }
      },
      "source": [
        "# retrieve 1/n most recent fraction for demo purposes \n",
        "# (note it is a smaller fraction due to the inflation process)\n",
        "fraction = 64*7\n",
        "train_fraction(df_aug, fraction, prefix='aug_train')"
      ],
      "execution_count": null,
      "outputs": [
        {
          "output_type": "stream",
          "text": [
            "Fractioned data set\n",
            "\tEvents: 151923\n",
            "\tSessions: 16351\n",
            "\tItems: 8484\n",
            "Saved as ./data/aug_train_448.tsv\n"
          ],
          "name": "stdout"
        }
      ]
    },
    {
      "cell_type": "markdown",
      "metadata": {
        "id": "v2E2q1ArD5Sr"
      },
      "source": [
        "## Entrenamiento con Dwell Time"
      ]
    },
    {
      "cell_type": "code",
      "metadata": {
        "id": "HNq8lpRADWZ2",
        "outputId": "09135714-04fb-4606-c2ac-c134a54bb979",
        "colab": {
          "base_uri": "https://localhost:8080/"
        }
      },
      "source": [
        "!python src/model/gru4rec.py --epochs 200 --train-path ./data/aug_train_448.tsv --dev-path ./data/validation.tsv --test-path ./data/test.tsv"
      ],
      "execution_count": null,
      "outputs": [
        {
          "output_type": "stream",
          "text": [
            "Model: \"functional_1\"\n",
            "_________________________________________________________________\n",
            "Layer (type)                 Output Shape              Param #   \n",
            "=================================================================\n",
            "input_1 (InputLayer)         [(512, 1, 8485)]          0         \n",
            "_________________________________________________________________\n",
            "GRU (GRU)                    [(512, 100), (512, 100)]  2576100   \n",
            "_________________________________________________________________\n",
            "dropout (Dropout)            (512, 100)                0         \n",
            "_________________________________________________________________\n",
            "dense (Dense)                (512, 8485)               856985    \n",
            "=================================================================\n",
            "Total params: 3,433,085\n",
            "Trainable params: 3,433,085\n",
            "Non-trainable params: 0\n",
            "_________________________________________________________________\n",
            "Epoch 1. Loss: 7.59729:  97% 15835/16352 [00:19<00:00, 821.68it/s] \n",
            "Epoch 2. Loss: 6.81050:  97% 15835/16352 [00:11<00:00, 1332.70it/s]\n",
            "Epoch 3. Loss: 5.97809:  97% 15835/16352 [00:11<00:00, 1339.64it/s]\n",
            "Epoch 4. Loss: 5.16771:  97% 15835/16352 [00:11<00:00, 1344.96it/s]\n",
            "Epoch 5. Loss: 4.52668:  97% 15835/16352 [00:11<00:00, 1329.70it/s]\n",
            "Epoch 6. Loss: 4.07321:  97% 15835/16352 [00:11<00:00, 1330.06it/s]\n",
            "Epoch 7. Loss: 3.68240:  97% 15835/16352 [00:11<00:00, 1335.66it/s]\n",
            "Epoch 8. Loss: 3.42135:  97% 15835/16352 [00:11<00:00, 1329.25it/s]\n",
            "Epoch 9. Loss: 3.13873:  97% 15835/16352 [00:11<00:00, 1331.65it/s]\n",
            "Epoch 10. Loss: 2.93293:  97% 15835/16352 [00:11<00:00, 1327.70it/s]\n",
            "Epoch 11. Loss: 2.76070:  97% 15835/16352 [00:11<00:00, 1332.73it/s]\n",
            "Epoch 12. Loss: 2.62179:  97% 15835/16352 [00:12<00:00, 1319.41it/s]\n",
            "Epoch 13. Loss: 2.52808:  97% 15835/16352 [00:12<00:00, 1316.90it/s]\n",
            "Epoch 14. Loss: 2.37385:  97% 15835/16352 [00:11<00:00, 1329.39it/s]\n",
            "Epoch 15. Loss: 2.30127:  97% 15835/16352 [00:11<00:00, 1325.98it/s]\n",
            "Epoch 16. Loss: 2.20400:  97% 15835/16352 [00:11<00:00, 1326.14it/s]\n",
            "Epoch 17. Loss: 2.10467:  97% 15835/16352 [00:11<00:00, 1329.02it/s]\n",
            "Epoch 18. Loss: 2.02906:  97% 15835/16352 [00:12<00:00, 1318.47it/s]\n",
            "Epoch 19. Loss: 1.95164:  97% 15835/16352 [00:12<00:00, 1305.13it/s]\n",
            "Epoch 20. Loss: 1.88527:  97% 15835/16352 [00:12<00:00, 1311.26it/s]\n",
            "Epoch 21. Loss: 1.81453:  97% 15835/16352 [00:12<00:00, 1315.07it/s]\n",
            "Epoch 22. Loss: 1.81427:  97% 15835/16352 [00:12<00:00, 1316.93it/s]\n",
            "Epoch 23. Loss: 1.76981:  97% 15835/16352 [00:12<00:00, 1311.12it/s]\n",
            "Epoch 24. Loss: 1.68358:  97% 15835/16352 [00:12<00:00, 1313.17it/s]\n",
            "Epoch 25. Loss: 1.66025:  97% 15835/16352 [00:12<00:00, 1305.33it/s]\n",
            "Epoch 26. Loss: 1.65257:  97% 15835/16352 [00:12<00:00, 1275.02it/s]\n",
            "Epoch 27. Loss: 1.60632:  97% 15835/16352 [00:12<00:00, 1312.04it/s]\n",
            "Epoch 28. Loss: 1.54339:  97% 15835/16352 [00:12<00:00, 1303.21it/s]\n",
            "Epoch 29. Loss: 1.55194:  97% 15835/16352 [00:12<00:00, 1287.60it/s]\n",
            "Epoch 30. Loss: 1.52575:  97% 15835/16352 [00:12<00:00, 1304.39it/s]\n",
            "Epoch 31. Loss: 1.49395:  97% 15835/16352 [00:12<00:00, 1283.64it/s]\n",
            "Epoch 32. Loss: 1.45050:  97% 15835/16352 [00:12<00:00, 1292.86it/s]\n",
            "Epoch 33. Loss: 1.44454:  97% 15835/16352 [00:12<00:00, 1289.39it/s]\n",
            "Epoch 34. Loss: 1.43921:  97% 15835/16352 [00:12<00:00, 1297.98it/s]\n",
            "Epoch 35. Loss: 1.39744:  97% 15835/16352 [00:12<00:00, 1315.06it/s]\n",
            "Epoch 36. Loss: 1.36519:  97% 15835/16352 [00:12<00:00, 1301.12it/s]\n",
            "Epoch 37. Loss: 1.38758:  97% 15835/16352 [00:12<00:00, 1305.53it/s]\n",
            "Epoch 38. Loss: 1.35733:  97% 15835/16352 [00:12<00:00, 1311.36it/s]\n",
            "Epoch 39. Loss: 1.31662:  97% 15835/16352 [00:12<00:00, 1300.52it/s]\n",
            "Epoch 40. Loss: 1.31982:  97% 15835/16352 [00:12<00:00, 1305.34it/s]\n",
            "Epoch 41. Loss: 1.32214:  97% 15835/16352 [00:12<00:00, 1310.62it/s]\n",
            "Epoch 42. Loss: 1.29146:  97% 15835/16352 [00:12<00:00, 1307.47it/s]\n",
            "Epoch 43. Loss: 1.32791:  97% 15835/16352 [00:12<00:00, 1312.88it/s]\n",
            "Epoch 44. Loss: 1.31293:  97% 15835/16352 [00:12<00:00, 1304.28it/s]\n",
            "Epoch 45. Loss: 1.30774:  97% 15835/16352 [00:12<00:00, 1293.88it/s]\n",
            "Epoch 46. Loss: 1.28355:  97% 15835/16352 [00:12<00:00, 1290.29it/s]\n",
            "Epoch 47. Loss: 1.30707:  97% 15835/16352 [00:12<00:00, 1305.98it/s]\n",
            "Epoch 48. Loss: 1.27168:  97% 15835/16352 [00:12<00:00, 1296.62it/s]\n",
            "Epoch 49. Loss: 1.27578:  97% 15835/16352 [00:12<00:00, 1314.16it/s]\n",
            "Epoch 50. Loss: 1.24614:  97% 15835/16352 [00:12<00:00, 1299.03it/s]\n",
            "Epoch 51. Loss: 1.25388:  97% 15835/16352 [00:12<00:00, 1276.56it/s]\n",
            "Epoch 52. Loss: 1.22354:  97% 15835/16352 [00:12<00:00, 1282.57it/s]\n",
            "Epoch 53. Loss: 1.22970:  97% 15835/16352 [00:12<00:00, 1293.03it/s]\n",
            "Epoch 54. Loss: 1.19073:  97% 15835/16352 [00:12<00:00, 1286.27it/s]\n",
            "Epoch 55. Loss: 1.26046:  97% 15835/16352 [00:12<00:00, 1294.17it/s]\n",
            "Epoch 56. Loss: 1.24310:  97% 15835/16352 [00:12<00:00, 1305.45it/s]\n",
            "Epoch 57. Loss: 1.20628:  97% 15835/16352 [00:12<00:00, 1299.93it/s]\n",
            "Epoch 58. Loss: 1.20396:  97% 15835/16352 [00:12<00:00, 1289.11it/s]\n",
            "Epoch 59. Loss: 1.18690:  97% 15835/16352 [00:12<00:00, 1279.48it/s]\n",
            "Epoch 60. Loss: 1.18701:  97% 15835/16352 [00:12<00:00, 1292.16it/s]\n",
            "Epoch 61. Loss: 1.16398:  97% 15835/16352 [00:12<00:00, 1297.25it/s]\n",
            "Epoch 62. Loss: 1.19962:  97% 15835/16352 [00:12<00:00, 1299.33it/s]\n",
            "Epoch 63. Loss: 1.19836:  97% 15835/16352 [00:12<00:00, 1298.96it/s]\n",
            "Epoch 64. Loss: 1.15173:  97% 15835/16352 [00:12<00:00, 1297.33it/s]\n",
            "Epoch 65. Loss: 1.19308:  97% 15835/16352 [00:12<00:00, 1295.52it/s]\n",
            "Epoch 66. Loss: 1.17041:  97% 15835/16352 [00:12<00:00, 1289.77it/s]\n",
            "Epoch 67. Loss: 1.15595:  97% 15835/16352 [00:12<00:00, 1303.55it/s]\n",
            "Epoch 68. Loss: 1.19903:  97% 15835/16352 [00:12<00:00, 1289.83it/s]\n",
            "Epoch 69. Loss: 1.15422:  97% 15835/16352 [00:12<00:00, 1297.32it/s]\n",
            "Epoch 70. Loss: 1.15429:  97% 15835/16352 [00:12<00:00, 1297.55it/s]\n",
            "Epoch 71. Loss: 1.16632:  97% 15835/16352 [00:12<00:00, 1299.87it/s]\n",
            "Epoch 72. Loss: 1.14075:  97% 15835/16352 [00:12<00:00, 1291.28it/s]\n",
            "Epoch 73. Loss: 1.08651:  97% 15835/16352 [00:12<00:00, 1295.21it/s]\n",
            "Epoch 74. Loss: 1.11573:  97% 15835/16352 [00:12<00:00, 1298.63it/s]\n",
            "Epoch 75. Loss: 1.11229:  97% 15835/16352 [00:12<00:00, 1303.16it/s]\n",
            "Epoch 76. Loss: 1.15008:  97% 15835/16352 [00:12<00:00, 1298.64it/s]\n",
            "Epoch 77. Loss: 1.20366:  97% 15835/16352 [00:12<00:00, 1263.47it/s]\n",
            "Epoch 78. Loss: 1.09385:  97% 15835/16352 [00:12<00:00, 1295.05it/s]\n",
            "Epoch 79. Loss: 1.13547:  97% 15835/16352 [00:12<00:00, 1267.57it/s]\n",
            "Epoch 80. Loss: 1.11388:  97% 15835/16352 [00:12<00:00, 1300.06it/s]\n",
            "Epoch 81. Loss: 1.05543:  97% 15835/16352 [00:12<00:00, 1288.90it/s]\n",
            "Epoch 82. Loss: 1.12334:  97% 15835/16352 [00:12<00:00, 1286.26it/s]\n",
            "Epoch 83. Loss: 1.07322:  97% 15835/16352 [00:12<00:00, 1296.16it/s]\n",
            "Epoch 84. Loss: 1.09073:  97% 15835/16352 [00:12<00:00, 1267.71it/s]\n",
            "Epoch 85. Loss: 1.11584:  97% 15835/16352 [00:12<00:00, 1271.98it/s]\n",
            "Epoch 86. Loss: 1.04211:  97% 15835/16352 [00:12<00:00, 1271.65it/s]\n",
            "Epoch 87. Loss: 1.06074:  97% 15835/16352 [00:12<00:00, 1283.02it/s]\n",
            "Epoch 88. Loss: 1.07130:  97% 15835/16352 [00:12<00:00, 1275.48it/s]\n",
            "Epoch 89. Loss: 1.09011:  97% 15835/16352 [00:12<00:00, 1265.64it/s]\n",
            "Epoch 90. Loss: 1.10267:  97% 15835/16352 [00:12<00:00, 1269.47it/s]\n",
            "Epoch 91. Loss: 1.08224:  97% 15835/16352 [00:12<00:00, 1267.85it/s]\n",
            "Epoch 92. Loss: 1.04880:  97% 15835/16352 [00:12<00:00, 1273.01it/s]\n",
            "Epoch 93. Loss: 1.06413:  97% 15835/16352 [00:12<00:00, 1271.96it/s]\n",
            "Epoch 94. Loss: 1.05672:  97% 15835/16352 [00:12<00:00, 1275.12it/s]\n",
            "Epoch 95. Loss: 1.07420:  97% 15835/16352 [00:12<00:00, 1278.12it/s]\n",
            "Epoch 96. Loss: 1.09423:  97% 15835/16352 [00:12<00:00, 1274.72it/s]\n",
            "Epoch 97. Loss: 1.06750:  97% 15835/16352 [00:12<00:00, 1267.41it/s]\n",
            "Epoch 98. Loss: 1.03179:  97% 15835/16352 [00:12<00:00, 1259.74it/s]\n",
            "Epoch 99. Loss: 1.04415:  97% 15835/16352 [00:12<00:00, 1272.12it/s]\n",
            "Epoch 100. Loss: 1.06328:  97% 15835/16352 [00:12<00:00, 1286.01it/s]\n",
            "Epoch 101. Loss: 1.05227:  97% 15835/16352 [00:12<00:00, 1278.97it/s]\n",
            "Epoch 102. Loss: 1.07030:  97% 15835/16352 [00:12<00:00, 1249.92it/s]\n",
            "Epoch 103. Loss: 1.05814:  97% 15835/16352 [00:12<00:00, 1271.46it/s]\n",
            "Epoch 104. Loss: 1.09023:  97% 15835/16352 [00:12<00:00, 1280.56it/s]\n",
            "Epoch 105. Loss: 1.09095:  97% 15835/16352 [00:12<00:00, 1267.94it/s]\n",
            "Epoch 106. Loss: 1.10103:  97% 15835/16352 [00:12<00:00, 1276.86it/s]\n",
            "Epoch 107. Loss: 1.06409:  97% 15835/16352 [00:12<00:00, 1291.34it/s]\n",
            "Epoch 108. Loss: 1.06617:  97% 15835/16352 [00:12<00:00, 1277.33it/s]\n",
            "Epoch 109. Loss: 1.00060:  97% 15835/16352 [00:12<00:00, 1289.40it/s]\n",
            "Epoch 110. Loss: 1.03504:  97% 15835/16352 [00:12<00:00, 1283.70it/s]\n",
            "Epoch 111. Loss: 1.05261:  97% 15835/16352 [00:12<00:00, 1287.84it/s]\n",
            "Epoch 112. Loss: 1.08292:  97% 15835/16352 [00:12<00:00, 1279.34it/s]\n",
            "Epoch 113. Loss: 1.01792:  97% 15835/16352 [00:12<00:00, 1291.08it/s]\n",
            "Epoch 114. Loss: 1.01826:  97% 15835/16352 [00:12<00:00, 1288.86it/s]\n",
            "Epoch 115. Loss: 0.96031:  97% 15835/16352 [00:12<00:00, 1298.92it/s]\n",
            "Epoch 116. Loss: 1.03348:  97% 15835/16352 [00:12<00:00, 1285.34it/s]\n",
            "Epoch 117. Loss: 0.98979:  97% 15835/16352 [00:12<00:00, 1286.80it/s]\n",
            "Epoch 118. Loss: 1.01165:  97% 15835/16352 [00:12<00:00, 1263.98it/s]\n",
            "Epoch 119. Loss: 1.00444:  97% 15835/16352 [00:12<00:00, 1281.57it/s]\n",
            "Epoch 120. Loss: 1.00510:  97% 15835/16352 [00:12<00:00, 1266.02it/s]\n",
            "Epoch 121. Loss: 1.02477:  97% 15835/16352 [00:12<00:00, 1268.76it/s]\n",
            "Epoch 122. Loss: 1.05755:  97% 15835/16352 [00:12<00:00, 1275.92it/s]\n",
            "Epoch 123. Loss: 0.97470:  97% 15835/16352 [00:12<00:00, 1269.36it/s]\n",
            "Epoch 124. Loss: 1.01720:  97% 15835/16352 [00:12<00:00, 1278.86it/s]\n",
            "Epoch 125. Loss: 0.98587:  97% 15835/16352 [00:12<00:00, 1267.52it/s]\n",
            "Epoch 126. Loss: 1.02149:  97% 15835/16352 [00:12<00:00, 1262.66it/s]\n",
            "Epoch 127. Loss: 1.00784:  97% 15835/16352 [00:12<00:00, 1237.98it/s]\n",
            "Epoch 128. Loss: 1.00715:  97% 15835/16352 [00:12<00:00, 1276.22it/s]\n",
            "Epoch 129. Loss: 0.99273:  97% 15835/16352 [00:12<00:00, 1303.26it/s]\n",
            "Epoch 130. Loss: 0.96700:  97% 15835/16352 [00:12<00:00, 1304.82it/s]\n",
            "Epoch 131. Loss: 0.97772:  97% 15835/16352 [00:12<00:00, 1290.82it/s]\n",
            "Epoch 132. Loss: 0.98721:  97% 15835/16352 [00:12<00:00, 1298.44it/s]\n",
            "Epoch 133. Loss: 0.98667:  97% 15835/16352 [00:12<00:00, 1292.35it/s]\n",
            "Epoch 134. Loss: 1.00878:  97% 15835/16352 [00:12<00:00, 1294.15it/s]\n",
            "Epoch 135. Loss: 0.99190:  97% 15835/16352 [00:12<00:00, 1290.31it/s]\n",
            "Epoch 136. Loss: 0.97698:  97% 15835/16352 [00:12<00:00, 1284.85it/s]\n",
            "Epoch 137. Loss: 1.01973:  97% 15835/16352 [00:12<00:00, 1286.58it/s]\n",
            "Epoch 138. Loss: 0.95300:  97% 15835/16352 [00:12<00:00, 1279.01it/s]\n",
            "Epoch 139. Loss: 0.96503:  97% 15835/16352 [00:12<00:00, 1296.62it/s]\n",
            "Epoch 140. Loss: 0.95764:  97% 15835/16352 [00:12<00:00, 1299.86it/s]\n",
            "Epoch 141. Loss: 1.02538:  97% 15835/16352 [00:12<00:00, 1291.42it/s]\n",
            "Epoch 142. Loss: 0.94293:  97% 15835/16352 [00:12<00:00, 1298.21it/s]\n",
            "Epoch 143. Loss: 0.93087:  97% 15835/16352 [00:12<00:00, 1292.53it/s]\n",
            "Epoch 144. Loss: 1.00890:  97% 15835/16352 [00:12<00:00, 1278.60it/s]\n",
            "Epoch 145. Loss: 0.97014:  97% 15835/16352 [00:12<00:00, 1293.66it/s]\n",
            "Epoch 146. Loss: 0.99985:  97% 15835/16352 [00:12<00:00, 1299.66it/s]\n",
            "Epoch 147. Loss: 0.92071:  97% 15835/16352 [00:12<00:00, 1286.53it/s]\n",
            "Epoch 148. Loss: 1.01601:  97% 15835/16352 [00:12<00:00, 1283.26it/s]\n",
            "Epoch 149. Loss: 0.94480:  97% 15835/16352 [00:12<00:00, 1296.89it/s]\n",
            "Epoch 150. Loss: 0.94583:  97% 15835/16352 [00:12<00:00, 1301.24it/s]\n",
            "Epoch 151. Loss: 0.97999:  97% 15835/16352 [00:12<00:00, 1300.98it/s]\n",
            "Epoch 152. Loss: 0.92398:  97% 15835/16352 [00:12<00:00, 1287.38it/s]\n",
            "Epoch 153. Loss: 0.95337:  97% 15835/16352 [00:12<00:00, 1272.02it/s]\n",
            "Epoch 154. Loss: 0.95791:  97% 15835/16352 [00:12<00:00, 1300.45it/s]\n",
            "Epoch 155. Loss: 0.94458:  97% 15835/16352 [00:12<00:00, 1297.66it/s]\n",
            "Epoch 156. Loss: 0.94877:  97% 15835/16352 [00:12<00:00, 1297.97it/s]\n",
            "Epoch 157. Loss: 0.97929:  97% 15835/16352 [00:12<00:00, 1288.65it/s]\n",
            "Epoch 158. Loss: 0.93713:  97% 15835/16352 [00:12<00:00, 1303.83it/s]\n",
            "Epoch 159. Loss: 1.02472:  97% 15835/16352 [00:12<00:00, 1307.15it/s]\n",
            "Epoch 160. Loss: 0.96267:  97% 15835/16352 [00:12<00:00, 1305.81it/s]\n",
            "Epoch 161. Loss: 0.98823:  97% 15835/16352 [00:12<00:00, 1302.75it/s]\n",
            "Epoch 162. Loss: 0.95885:  97% 15835/16352 [00:12<00:00, 1304.75it/s]\n",
            "Epoch 163. Loss: 0.99003:  97% 15835/16352 [00:12<00:00, 1302.06it/s]\n",
            "Epoch 164. Loss: 0.96679:  97% 15835/16352 [00:12<00:00, 1286.34it/s]\n",
            "Epoch 165. Loss: 1.00270:  97% 15835/16352 [00:12<00:00, 1305.30it/s]\n",
            "Epoch 166. Loss: 0.94558:  97% 15835/16352 [00:12<00:00, 1305.56it/s]\n",
            "Epoch 167. Loss: 0.93660:  97% 15835/16352 [00:12<00:00, 1311.99it/s]\n",
            "Epoch 168. Loss: 0.93712:  97% 15835/16352 [00:12<00:00, 1312.45it/s]\n",
            "Epoch 169. Loss: 0.94871:  97% 15835/16352 [00:12<00:00, 1314.48it/s]\n",
            "Epoch 170. Loss: 0.92031:  97% 15835/16352 [00:12<00:00, 1316.68it/s]\n",
            "Epoch 171. Loss: 0.90893:  97% 15835/16352 [00:12<00:00, 1310.33it/s]\n",
            "Epoch 172. Loss: 0.92171:  97% 15835/16352 [00:12<00:00, 1308.34it/s]\n",
            "Epoch 173. Loss: 0.97476:  97% 15835/16352 [00:12<00:00, 1310.26it/s]\n",
            "Epoch 174. Loss: 0.94295:  97% 15835/16352 [00:12<00:00, 1318.12it/s]\n",
            "Epoch 175. Loss: 0.92876:  97% 15835/16352 [00:12<00:00, 1316.84it/s]\n",
            "Epoch 176. Loss: 0.91904:  97% 15835/16352 [00:12<00:00, 1311.22it/s]\n",
            "Epoch 177. Loss: 0.94198:  97% 15835/16352 [00:12<00:00, 1303.46it/s]\n",
            "Epoch 178. Loss: 0.91577:  97% 15835/16352 [00:12<00:00, 1283.62it/s]\n",
            "Epoch 179. Loss: 0.93386:  97% 15835/16352 [00:11<00:00, 1320.84it/s]\n",
            "Epoch 180. Loss: 0.90462:  97% 15835/16352 [00:12<00:00, 1317.38it/s]\n",
            "Epoch 181. Loss: 0.95878:  97% 15835/16352 [00:12<00:00, 1318.31it/s]\n",
            "Epoch 182. Loss: 0.95701:  97% 15835/16352 [00:12<00:00, 1315.89it/s]\n",
            "Epoch 183. Loss: 0.93287:  97% 15835/16352 [00:12<00:00, 1313.38it/s]\n",
            "Epoch 184. Loss: 0.92560:  97% 15835/16352 [00:12<00:00, 1302.76it/s]\n",
            "Epoch 185. Loss: 0.93075:  97% 15835/16352 [00:12<00:00, 1302.50it/s]\n",
            "Epoch 186. Loss: 0.92239:  97% 15835/16352 [00:11<00:00, 1320.33it/s]\n",
            "Epoch 187. Loss: 0.94843:  97% 15835/16352 [00:12<00:00, 1317.85it/s]\n",
            "Epoch 188. Loss: 0.89712:  97% 15835/16352 [00:12<00:00, 1311.36it/s]\n",
            "Epoch 189. Loss: 0.94087:  97% 15835/16352 [00:12<00:00, 1310.53it/s]\n",
            "Epoch 190. Loss: 0.96256:  97% 15835/16352 [00:12<00:00, 1308.84it/s]\n",
            "Epoch 191. Loss: 0.87189:  97% 15835/16352 [00:12<00:00, 1311.17it/s]\n",
            "Epoch 192. Loss: 0.88050:  97% 15835/16352 [00:12<00:00, 1317.23it/s]\n",
            "Epoch 193. Loss: 0.90065:  97% 15835/16352 [00:12<00:00, 1310.37it/s]\n",
            "Epoch 194. Loss: 0.86587:  97% 15835/16352 [00:12<00:00, 1306.05it/s]\n",
            "Epoch 195. Loss: 0.91219:  97% 15835/16352 [00:12<00:00, 1312.31it/s]\n",
            "Epoch 196. Loss: 0.93104:  97% 15835/16352 [00:12<00:00, 1307.48it/s]\n",
            "Epoch 197. Loss: 0.89663:  97% 15835/16352 [00:12<00:00, 1293.42it/s]\n",
            "Epoch 198. Loss: 0.88274:  97% 15835/16352 [00:12<00:00, 1304.39it/s]\n",
            "Epoch 199. Loss: 0.92480:  97% 15835/16352 [00:12<00:00, 1310.51it/s]\n",
            "Evaluating model...\n",
            "\t - Recall@20 epoch 200: 0.512655\n",
            "\t - MRR@20    epoch 200: 0.209805\n",
            "\n"
          ],
          "name": "stdout"
        }
      ]
    },
    {
      "cell_type": "markdown",
      "metadata": {
        "id": "YdMFiWFK65w1"
      },
      "source": [
        "Indique el resultado del modelo con Dwell Time. \n",
        "\n",
        " - Recall@20 epoch 200: 0.512655"
	 "- MRR@20    epoch 200: 0.209805"
      ]
    }
  ]
}
